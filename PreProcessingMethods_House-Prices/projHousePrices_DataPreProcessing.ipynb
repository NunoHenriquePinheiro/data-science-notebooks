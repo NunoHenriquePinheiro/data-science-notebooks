{
 "cells": [
  {
   "cell_type": "markdown",
   "metadata": {},
   "source": [
    "# Project: Pre-process data to improve the prediction of house sales' prices\n",
    "\n",
    "**[Co-authored]**"
   ]
  },
  {
   "cell_type": "markdown",
   "metadata": {},
   "source": [
    "---"
   ]
  },
  {
   "cell_type": "markdown",
   "metadata": {},
   "source": [
    "Aim of the project:\n",
    "- Improve the prediction of a Sale Price boundary in house sales, using feature engineering across 6 iterations to improve the algorithm\n",
    "- Use different strategies to handle data features, in order to increase their utility for the given task: handling/encoding missing value, encoding categorical data, feature scaling and feature selection.\n",
    "\n",
    "---"
   ]
  },
  {
   "cell_type": "markdown",
   "metadata": {},
   "source": [
    "## Setup"
   ]
  },
  {
   "cell_type": "code",
   "execution_count": 1,
   "metadata": {},
   "outputs": [],
   "source": [
    "from pgds_mpp_utils import train_and_evaluation\n",
    "from scipy import stats\n",
    "import matplotlib.pyplot as plt\n",
    "import numpy as np\n",
    "import pandas as pd\n",
    "pd.options.display.max_columns = None\n",
    "\n",
    "from projHousePrices_utils import (\n",
    "    AdditionalFeature,\n",
    "    compute_pca,\n",
    "    get_ohe_dataframe,\n",
    "    get_dataframe_scaled,\n",
    "    get_series_scaled_dataframe,\n",
    "    get_dataframe_zscore,\n",
    "    get_series_zscore_dataframe\n",
    ")"
   ]
  },
  {
   "cell_type": "markdown",
   "metadata": {},
   "source": [
    "---"
   ]
  },
  {
   "cell_type": "markdown",
   "metadata": {},
   "source": [
    "# Loading, describing and transforming data"
   ]
  },
  {
   "cell_type": "code",
   "execution_count": 2,
   "metadata": {},
   "outputs": [],
   "source": [
    "df_houses_raw = pd.read_csv('houses.csv')"
   ]
  },
  {
   "cell_type": "code",
   "execution_count": 3,
   "metadata": {},
   "outputs": [
    {
     "data": {
      "text/html": [
       "<div>\n",
       "<style scoped>\n",
       "    .dataframe tbody tr th:only-of-type {\n",
       "        vertical-align: middle;\n",
       "    }\n",
       "\n",
       "    .dataframe tbody tr th {\n",
       "        vertical-align: top;\n",
       "    }\n",
       "\n",
       "    .dataframe thead th {\n",
       "        text-align: right;\n",
       "    }\n",
       "</style>\n",
       "<table border=\"1\" class=\"dataframe\">\n",
       "  <thead>\n",
       "    <tr style=\"text-align: right;\">\n",
       "      <th></th>\n",
       "      <th>Id</th>\n",
       "      <th>MSSubClass</th>\n",
       "      <th>MSZoning</th>\n",
       "      <th>LotFrontage</th>\n",
       "      <th>LotArea</th>\n",
       "      <th>Street</th>\n",
       "      <th>Alley</th>\n",
       "      <th>LotShape</th>\n",
       "      <th>LandContour</th>\n",
       "      <th>Utilities</th>\n",
       "      <th>LotConfig</th>\n",
       "      <th>LandSlope</th>\n",
       "      <th>Neighborhood</th>\n",
       "      <th>Condition1</th>\n",
       "      <th>Condition2</th>\n",
       "      <th>BldgType</th>\n",
       "      <th>HouseStyle</th>\n",
       "      <th>OverallQual</th>\n",
       "      <th>OverallCond</th>\n",
       "      <th>YearBuilt</th>\n",
       "      <th>YearRemodAdd</th>\n",
       "      <th>RoofStyle</th>\n",
       "      <th>RoofMatl</th>\n",
       "      <th>Exterior1st</th>\n",
       "      <th>Exterior2nd</th>\n",
       "      <th>MasVnrType</th>\n",
       "      <th>MasVnrArea</th>\n",
       "      <th>ExterQual</th>\n",
       "      <th>ExterCond</th>\n",
       "      <th>Foundation</th>\n",
       "      <th>BsmtQual</th>\n",
       "      <th>BsmtCond</th>\n",
       "      <th>BsmtExposure</th>\n",
       "      <th>BsmtFinType1</th>\n",
       "      <th>BsmtFinSF1</th>\n",
       "      <th>BsmtFinType2</th>\n",
       "      <th>BsmtFinSF2</th>\n",
       "      <th>BsmtUnfSF</th>\n",
       "      <th>TotalBsmtSF</th>\n",
       "      <th>Heating</th>\n",
       "      <th>HeatingQC</th>\n",
       "      <th>CentralAir</th>\n",
       "      <th>Electrical</th>\n",
       "      <th>1stFlrSF</th>\n",
       "      <th>2ndFlrSF</th>\n",
       "      <th>LowQualFinSF</th>\n",
       "      <th>GrLivArea</th>\n",
       "      <th>BsmtFullBath</th>\n",
       "      <th>BsmtHalfBath</th>\n",
       "      <th>FullBath</th>\n",
       "      <th>HalfBath</th>\n",
       "      <th>BedroomAbvGr</th>\n",
       "      <th>KitchenAbvGr</th>\n",
       "      <th>KitchenQual</th>\n",
       "      <th>TotRmsAbvGrd</th>\n",
       "      <th>Functional</th>\n",
       "      <th>Fireplaces</th>\n",
       "      <th>FireplaceQu</th>\n",
       "      <th>GarageType</th>\n",
       "      <th>GarageYrBlt</th>\n",
       "      <th>GarageFinish</th>\n",
       "      <th>GarageCars</th>\n",
       "      <th>GarageArea</th>\n",
       "      <th>GarageQual</th>\n",
       "      <th>GarageCond</th>\n",
       "      <th>PavedDrive</th>\n",
       "      <th>WoodDeckSF</th>\n",
       "      <th>OpenPorchSF</th>\n",
       "      <th>EnclosedPorch</th>\n",
       "      <th>3SsnPorch</th>\n",
       "      <th>ScreenPorch</th>\n",
       "      <th>PoolArea</th>\n",
       "      <th>PoolQC</th>\n",
       "      <th>Fence</th>\n",
       "      <th>MiscFeature</th>\n",
       "      <th>MiscVal</th>\n",
       "      <th>MoSold</th>\n",
       "      <th>YrSold</th>\n",
       "      <th>SaleType</th>\n",
       "      <th>SaleCondition</th>\n",
       "      <th>SalePrice</th>\n",
       "    </tr>\n",
       "  </thead>\n",
       "  <tbody>\n",
       "    <tr>\n",
       "      <th>0</th>\n",
       "      <td>1</td>\n",
       "      <td>60</td>\n",
       "      <td>RL</td>\n",
       "      <td>65.0</td>\n",
       "      <td>8450</td>\n",
       "      <td>Pave</td>\n",
       "      <td>NaN</td>\n",
       "      <td>Reg</td>\n",
       "      <td>Lvl</td>\n",
       "      <td>AllPub</td>\n",
       "      <td>Inside</td>\n",
       "      <td>Gtl</td>\n",
       "      <td>CollgCr</td>\n",
       "      <td>Norm</td>\n",
       "      <td>Norm</td>\n",
       "      <td>1Fam</td>\n",
       "      <td>2Story</td>\n",
       "      <td>7</td>\n",
       "      <td>5</td>\n",
       "      <td>2003</td>\n",
       "      <td>2003</td>\n",
       "      <td>Gable</td>\n",
       "      <td>CompShg</td>\n",
       "      <td>VinylSd</td>\n",
       "      <td>VinylSd</td>\n",
       "      <td>BrkFace</td>\n",
       "      <td>196.0</td>\n",
       "      <td>Gd</td>\n",
       "      <td>TA</td>\n",
       "      <td>PConc</td>\n",
       "      <td>Gd</td>\n",
       "      <td>TA</td>\n",
       "      <td>No</td>\n",
       "      <td>GLQ</td>\n",
       "      <td>706</td>\n",
       "      <td>Unf</td>\n",
       "      <td>0</td>\n",
       "      <td>150</td>\n",
       "      <td>856</td>\n",
       "      <td>GasA</td>\n",
       "      <td>Ex</td>\n",
       "      <td>Y</td>\n",
       "      <td>SBrkr</td>\n",
       "      <td>856</td>\n",
       "      <td>854</td>\n",
       "      <td>0</td>\n",
       "      <td>1710</td>\n",
       "      <td>1</td>\n",
       "      <td>0</td>\n",
       "      <td>2</td>\n",
       "      <td>1</td>\n",
       "      <td>3</td>\n",
       "      <td>1</td>\n",
       "      <td>Gd</td>\n",
       "      <td>8</td>\n",
       "      <td>Typ</td>\n",
       "      <td>0</td>\n",
       "      <td>NaN</td>\n",
       "      <td>Attchd</td>\n",
       "      <td>2003.0</td>\n",
       "      <td>RFn</td>\n",
       "      <td>2</td>\n",
       "      <td>548</td>\n",
       "      <td>TA</td>\n",
       "      <td>TA</td>\n",
       "      <td>Y</td>\n",
       "      <td>0</td>\n",
       "      <td>61</td>\n",
       "      <td>0</td>\n",
       "      <td>0</td>\n",
       "      <td>0</td>\n",
       "      <td>0</td>\n",
       "      <td>NaN</td>\n",
       "      <td>NaN</td>\n",
       "      <td>NaN</td>\n",
       "      <td>0</td>\n",
       "      <td>2</td>\n",
       "      <td>2008</td>\n",
       "      <td>WD</td>\n",
       "      <td>Normal</td>\n",
       "      <td>208500</td>\n",
       "    </tr>\n",
       "  </tbody>\n",
       "</table>\n",
       "</div>"
      ],
      "text/plain": [
       "   Id  MSSubClass MSZoning  LotFrontage  LotArea Street Alley LotShape  \\\n",
       "0   1          60       RL         65.0     8450   Pave   NaN      Reg   \n",
       "\n",
       "  LandContour Utilities LotConfig LandSlope Neighborhood Condition1  \\\n",
       "0         Lvl    AllPub    Inside       Gtl      CollgCr       Norm   \n",
       "\n",
       "  Condition2 BldgType HouseStyle  OverallQual  OverallCond  YearBuilt  \\\n",
       "0       Norm     1Fam     2Story            7            5       2003   \n",
       "\n",
       "   YearRemodAdd RoofStyle RoofMatl Exterior1st Exterior2nd MasVnrType  \\\n",
       "0          2003     Gable  CompShg     VinylSd     VinylSd    BrkFace   \n",
       "\n",
       "   MasVnrArea ExterQual ExterCond Foundation BsmtQual BsmtCond BsmtExposure  \\\n",
       "0       196.0        Gd        TA      PConc       Gd       TA           No   \n",
       "\n",
       "  BsmtFinType1  BsmtFinSF1 BsmtFinType2  BsmtFinSF2  BsmtUnfSF  TotalBsmtSF  \\\n",
       "0          GLQ         706          Unf           0        150          856   \n",
       "\n",
       "  Heating HeatingQC CentralAir Electrical  1stFlrSF  2ndFlrSF  LowQualFinSF  \\\n",
       "0    GasA        Ex          Y      SBrkr       856       854             0   \n",
       "\n",
       "   GrLivArea  BsmtFullBath  BsmtHalfBath  FullBath  HalfBath  BedroomAbvGr  \\\n",
       "0       1710             1             0         2         1             3   \n",
       "\n",
       "   KitchenAbvGr KitchenQual  TotRmsAbvGrd Functional  Fireplaces FireplaceQu  \\\n",
       "0             1          Gd             8        Typ           0         NaN   \n",
       "\n",
       "  GarageType  GarageYrBlt GarageFinish  GarageCars  GarageArea GarageQual  \\\n",
       "0     Attchd       2003.0          RFn           2         548         TA   \n",
       "\n",
       "  GarageCond PavedDrive  WoodDeckSF  OpenPorchSF  EnclosedPorch  3SsnPorch  \\\n",
       "0         TA          Y           0           61              0          0   \n",
       "\n",
       "   ScreenPorch  PoolArea PoolQC Fence MiscFeature  MiscVal  MoSold  YrSold  \\\n",
       "0            0         0    NaN   NaN         NaN        0       2    2008   \n",
       "\n",
       "  SaleType SaleCondition  SalePrice  \n",
       "0       WD        Normal     208500  "
      ]
     },
     "execution_count": 3,
     "metadata": {},
     "output_type": "execute_result"
    }
   ],
   "source": [
    "df_houses_raw.head(1)"
   ]
  },
  {
   "cell_type": "markdown",
   "metadata": {},
   "source": [
    "1.2- Print dataset total number of `observations` and `variables`"
   ]
  },
  {
   "cell_type": "code",
   "execution_count": 4,
   "metadata": {},
   "outputs": [
    {
     "data": {
      "text/plain": [
       "(1460, 81)"
      ]
     },
     "execution_count": 4,
     "metadata": {},
     "output_type": "execute_result"
    }
   ],
   "source": [
    "df_houses_raw.shape"
   ]
  },
  {
   "cell_type": "markdown",
   "metadata": {},
   "source": [
    "---"
   ]
  },
  {
   "cell_type": "markdown",
   "metadata": {},
   "source": [
    "### Considered columns"
   ]
  },
  {
   "cell_type": "code",
   "execution_count": 5,
   "metadata": {},
   "outputs": [],
   "source": [
    "columns_list = ['FullBath',\n",
    "                'TotRmsAbvGrd',\n",
    "                'Fireplaces',\n",
    "                'GarageYrBlt',\n",
    "                'GarageCars',\n",
    "                'GarageArea',\n",
    "                'LotFrontage',\n",
    "                'WoodDeckSF',\n",
    "                'OpenPorchSF',\n",
    "                'SaleType',\n",
    "                'SaleCondition',\n",
    "                'SalePrice']"
   ]
  },
  {
   "cell_type": "code",
   "execution_count": 6,
   "metadata": {},
   "outputs": [
    {
     "data": {
      "text/html": [
       "<div>\n",
       "<style scoped>\n",
       "    .dataframe tbody tr th:only-of-type {\n",
       "        vertical-align: middle;\n",
       "    }\n",
       "\n",
       "    .dataframe tbody tr th {\n",
       "        vertical-align: top;\n",
       "    }\n",
       "\n",
       "    .dataframe thead th {\n",
       "        text-align: right;\n",
       "    }\n",
       "</style>\n",
       "<table border=\"1\" class=\"dataframe\">\n",
       "  <thead>\n",
       "    <tr style=\"text-align: right;\">\n",
       "      <th></th>\n",
       "      <th>FullBath</th>\n",
       "      <th>TotRmsAbvGrd</th>\n",
       "      <th>Fireplaces</th>\n",
       "      <th>GarageYrBlt</th>\n",
       "      <th>GarageCars</th>\n",
       "      <th>GarageArea</th>\n",
       "      <th>LotFrontage</th>\n",
       "      <th>WoodDeckSF</th>\n",
       "      <th>OpenPorchSF</th>\n",
       "      <th>SaleType</th>\n",
       "      <th>SaleCondition</th>\n",
       "      <th>SalePrice</th>\n",
       "    </tr>\n",
       "  </thead>\n",
       "  <tbody>\n",
       "    <tr>\n",
       "      <th>0</th>\n",
       "      <td>2</td>\n",
       "      <td>8</td>\n",
       "      <td>0</td>\n",
       "      <td>2003.0</td>\n",
       "      <td>2</td>\n",
       "      <td>548</td>\n",
       "      <td>65.0</td>\n",
       "      <td>0</td>\n",
       "      <td>61</td>\n",
       "      <td>WD</td>\n",
       "      <td>Normal</td>\n",
       "      <td>208500</td>\n",
       "    </tr>\n",
       "  </tbody>\n",
       "</table>\n",
       "</div>"
      ],
      "text/plain": [
       "   FullBath  TotRmsAbvGrd  Fireplaces  GarageYrBlt  GarageCars  GarageArea  \\\n",
       "0         2             8           0       2003.0           2         548   \n",
       "\n",
       "   LotFrontage  WoodDeckSF  OpenPorchSF SaleType SaleCondition  SalePrice  \n",
       "0         65.0           0           61       WD        Normal     208500  "
      ]
     },
     "execution_count": 6,
     "metadata": {},
     "output_type": "execute_result"
    }
   ],
   "source": [
    "df_houses = df_houses_raw[columns_list]\n",
    "df_houses.head(1)"
   ]
  },
  {
   "cell_type": "code",
   "execution_count": null,
   "metadata": {},
   "outputs": [],
   "source": []
  },
  {
   "cell_type": "markdown",
   "metadata": {},
   "source": [
    "## Target Variable - Sale Price Boundary"
   ]
  },
  {
   "cell_type": "markdown",
   "metadata": {},
   "source": [
    "The feature `target` is based on `SalePrice`. Binary target, split as:\n",
    "- `Min->Median` bucket should have assigned the value `0`;\n",
    "- the other bucket (`Median->Max`) value should be `1`."
   ]
  },
  {
   "cell_type": "code",
   "execution_count": 7,
   "metadata": {},
   "outputs": [
    {
     "data": {
      "text/plain": [
       "163000.0"
      ]
     },
     "execution_count": 7,
     "metadata": {},
     "output_type": "execute_result"
    }
   ],
   "source": [
    "sale_price_median = df_houses.SalePrice.median()\n",
    "sale_price_median"
   ]
  },
  {
   "cell_type": "code",
   "execution_count": 8,
   "metadata": {},
   "outputs": [
    {
     "name": "stderr",
     "output_type": "stream",
     "text": [
      "<ipython-input-8-2e0b01ca332a>:1: SettingWithCopyWarning: \n",
      "A value is trying to be set on a copy of a slice from a DataFrame.\n",
      "Try using .loc[row_indexer,col_indexer] = value instead\n",
      "\n",
      "See the caveats in the documentation: https://pandas.pydata.org/pandas-docs/stable/user_guide/indexing.html#returning-a-view-versus-a-copy\n",
      "  df_houses['target'] = 0\n",
      "C:\\Users\\nuno.pinheiro\\Anaconda3\\lib\\site-packages\\pandas\\core\\indexing.py:966: SettingWithCopyWarning: \n",
      "A value is trying to be set on a copy of a slice from a DataFrame.\n",
      "Try using .loc[row_indexer,col_indexer] = value instead\n",
      "\n",
      "See the caveats in the documentation: https://pandas.pydata.org/pandas-docs/stable/user_guide/indexing.html#returning-a-view-versus-a-copy\n",
      "  self.obj[item] = s\n"
     ]
    },
    {
     "data": {
      "text/html": [
       "<div>\n",
       "<style scoped>\n",
       "    .dataframe tbody tr th:only-of-type {\n",
       "        vertical-align: middle;\n",
       "    }\n",
       "\n",
       "    .dataframe tbody tr th {\n",
       "        vertical-align: top;\n",
       "    }\n",
       "\n",
       "    .dataframe thead th {\n",
       "        text-align: right;\n",
       "    }\n",
       "</style>\n",
       "<table border=\"1\" class=\"dataframe\">\n",
       "  <thead>\n",
       "    <tr style=\"text-align: right;\">\n",
       "      <th></th>\n",
       "      <th>FullBath</th>\n",
       "      <th>TotRmsAbvGrd</th>\n",
       "      <th>Fireplaces</th>\n",
       "      <th>GarageYrBlt</th>\n",
       "      <th>GarageCars</th>\n",
       "      <th>GarageArea</th>\n",
       "      <th>LotFrontage</th>\n",
       "      <th>WoodDeckSF</th>\n",
       "      <th>OpenPorchSF</th>\n",
       "      <th>SaleType</th>\n",
       "      <th>SaleCondition</th>\n",
       "      <th>SalePrice</th>\n",
       "      <th>target</th>\n",
       "    </tr>\n",
       "  </thead>\n",
       "  <tbody>\n",
       "    <tr>\n",
       "      <th>0</th>\n",
       "      <td>2</td>\n",
       "      <td>8</td>\n",
       "      <td>0</td>\n",
       "      <td>2003.0</td>\n",
       "      <td>2</td>\n",
       "      <td>548</td>\n",
       "      <td>65.0</td>\n",
       "      <td>0</td>\n",
       "      <td>61</td>\n",
       "      <td>WD</td>\n",
       "      <td>Normal</td>\n",
       "      <td>208500</td>\n",
       "      <td>1</td>\n",
       "    </tr>\n",
       "    <tr>\n",
       "      <th>1</th>\n",
       "      <td>2</td>\n",
       "      <td>6</td>\n",
       "      <td>1</td>\n",
       "      <td>1976.0</td>\n",
       "      <td>2</td>\n",
       "      <td>460</td>\n",
       "      <td>80.0</td>\n",
       "      <td>298</td>\n",
       "      <td>0</td>\n",
       "      <td>WD</td>\n",
       "      <td>Normal</td>\n",
       "      <td>181500</td>\n",
       "      <td>1</td>\n",
       "    </tr>\n",
       "    <tr>\n",
       "      <th>2</th>\n",
       "      <td>2</td>\n",
       "      <td>6</td>\n",
       "      <td>1</td>\n",
       "      <td>2001.0</td>\n",
       "      <td>2</td>\n",
       "      <td>608</td>\n",
       "      <td>68.0</td>\n",
       "      <td>0</td>\n",
       "      <td>42</td>\n",
       "      <td>WD</td>\n",
       "      <td>Normal</td>\n",
       "      <td>223500</td>\n",
       "      <td>1</td>\n",
       "    </tr>\n",
       "    <tr>\n",
       "      <th>3</th>\n",
       "      <td>1</td>\n",
       "      <td>7</td>\n",
       "      <td>1</td>\n",
       "      <td>1998.0</td>\n",
       "      <td>3</td>\n",
       "      <td>642</td>\n",
       "      <td>60.0</td>\n",
       "      <td>0</td>\n",
       "      <td>35</td>\n",
       "      <td>WD</td>\n",
       "      <td>Abnorml</td>\n",
       "      <td>140000</td>\n",
       "      <td>0</td>\n",
       "    </tr>\n",
       "    <tr>\n",
       "      <th>4</th>\n",
       "      <td>2</td>\n",
       "      <td>9</td>\n",
       "      <td>1</td>\n",
       "      <td>2000.0</td>\n",
       "      <td>3</td>\n",
       "      <td>836</td>\n",
       "      <td>84.0</td>\n",
       "      <td>192</td>\n",
       "      <td>84</td>\n",
       "      <td>WD</td>\n",
       "      <td>Normal</td>\n",
       "      <td>250000</td>\n",
       "      <td>1</td>\n",
       "    </tr>\n",
       "  </tbody>\n",
       "</table>\n",
       "</div>"
      ],
      "text/plain": [
       "   FullBath  TotRmsAbvGrd  Fireplaces  GarageYrBlt  GarageCars  GarageArea  \\\n",
       "0         2             8           0       2003.0           2         548   \n",
       "1         2             6           1       1976.0           2         460   \n",
       "2         2             6           1       2001.0           2         608   \n",
       "3         1             7           1       1998.0           3         642   \n",
       "4         2             9           1       2000.0           3         836   \n",
       "\n",
       "   LotFrontage  WoodDeckSF  OpenPorchSF SaleType SaleCondition  SalePrice  \\\n",
       "0         65.0           0           61       WD        Normal     208500   \n",
       "1         80.0         298            0       WD        Normal     181500   \n",
       "2         68.0           0           42       WD        Normal     223500   \n",
       "3         60.0           0           35       WD       Abnorml     140000   \n",
       "4         84.0         192           84       WD        Normal     250000   \n",
       "\n",
       "   target  \n",
       "0       1  \n",
       "1       1  \n",
       "2       1  \n",
       "3       0  \n",
       "4       1  "
      ]
     },
     "execution_count": 8,
     "metadata": {},
     "output_type": "execute_result"
    }
   ],
   "source": [
    "df_houses['target'] = 0\n",
    "df_houses.loc[df_houses.SalePrice > sale_price_median, 'target'] = 1\n",
    "df_houses.head()"
   ]
  },
  {
   "cell_type": "code",
   "execution_count": null,
   "metadata": {},
   "outputs": [],
   "source": []
  },
  {
   "cell_type": "markdown",
   "metadata": {},
   "source": [
    "## Missing Values"
   ]
  },
  {
   "cell_type": "markdown",
   "metadata": {},
   "source": [
    "Amount of missing values per column"
   ]
  },
  {
   "cell_type": "code",
   "execution_count": 9,
   "metadata": {},
   "outputs": [
    {
     "data": {
      "text/plain": [
       "FullBath           0\n",
       "TotRmsAbvGrd       0\n",
       "Fireplaces         0\n",
       "GarageYrBlt       81\n",
       "GarageCars         0\n",
       "GarageArea         0\n",
       "LotFrontage      259\n",
       "WoodDeckSF         0\n",
       "OpenPorchSF        0\n",
       "SaleType           0\n",
       "SaleCondition      0\n",
       "SalePrice          0\n",
       "target             0\n",
       "dtype: int64"
      ]
     },
     "execution_count": 9,
     "metadata": {},
     "output_type": "execute_result"
    }
   ],
   "source": [
    "missing_count = df_houses.isna().sum()\n",
    "missing_count"
   ]
  },
  {
   "cell_type": "code",
   "execution_count": 10,
   "metadata": {},
   "outputs": [
    {
     "data": {
      "text/plain": [
       "FullBath          0.000000\n",
       "TotRmsAbvGrd      0.000000\n",
       "Fireplaces        0.000000\n",
       "GarageYrBlt       5.547945\n",
       "GarageCars        0.000000\n",
       "GarageArea        0.000000\n",
       "LotFrontage      17.739726\n",
       "WoodDeckSF        0.000000\n",
       "OpenPorchSF       0.000000\n",
       "SaleType          0.000000\n",
       "SaleCondition     0.000000\n",
       "SalePrice         0.000000\n",
       "target            0.000000\n",
       "dtype: float64"
      ]
     },
     "execution_count": 10,
     "metadata": {},
     "output_type": "execute_result"
    }
   ],
   "source": [
    "elements_number = df_houses.shape[0]\n",
    "missing_percentage = missing_count/elements_number*100\n",
    "missing_percentage"
   ]
  },
  {
   "cell_type": "code",
   "execution_count": null,
   "metadata": {},
   "outputs": [],
   "source": []
  },
  {
   "cell_type": "markdown",
   "metadata": {},
   "source": [
    "Process the missing values in the column `LotFrontage`"
   ]
  },
  {
   "cell_type": "code",
   "execution_count": 11,
   "metadata": {},
   "outputs": [
    {
     "data": {
      "text/plain": [
       "NaN      259\n",
       "60.0     143\n",
       "70.0      70\n",
       "80.0      69\n",
       "50.0      57\n",
       "        ... \n",
       "106.0      1\n",
       "38.0       1\n",
       "138.0      1\n",
       "140.0      1\n",
       "137.0      1\n",
       "Name: LotFrontage, Length: 111, dtype: int64"
      ]
     },
     "execution_count": 11,
     "metadata": {},
     "output_type": "execute_result"
    }
   ],
   "source": [
    "lotfrontage_value_counts = df_houses.LotFrontage.value_counts(dropna=False)\n",
    "lotfrontage_value_counts"
   ]
  },
  {
   "cell_type": "code",
   "execution_count": 12,
   "metadata": {},
   "outputs": [
    {
     "data": {
      "text/plain": [
       "NaN      17.739726\n",
       "60.0      9.794521\n",
       "70.0      4.794521\n",
       "80.0      4.726027\n",
       "50.0      3.904110\n",
       "           ...    \n",
       "106.0     0.068493\n",
       "38.0      0.068493\n",
       "138.0     0.068493\n",
       "140.0     0.068493\n",
       "137.0     0.068493\n",
       "Name: LotFrontage, Length: 111, dtype: float64"
      ]
     },
     "execution_count": 12,
     "metadata": {},
     "output_type": "execute_result"
    }
   ],
   "source": [
    "lotfrontage_value_percentage = lotfrontage_value_counts/elements_number*100\n",
    "lotfrontage_value_percentage"
   ]
  },
  {
   "cell_type": "code",
   "execution_count": 13,
   "metadata": {},
   "outputs": [
    {
     "data": {
      "text/plain": [
       "count    1201.000000\n",
       "mean       70.049958\n",
       "std        24.284752\n",
       "min        21.000000\n",
       "25%        59.000000\n",
       "50%        69.000000\n",
       "75%        80.000000\n",
       "max       313.000000\n",
       "Name: LotFrontage, dtype: float64"
      ]
     },
     "execution_count": 13,
     "metadata": {},
     "output_type": "execute_result"
    }
   ],
   "source": [
    "df_houses.LotFrontage.describe()"
   ]
  },
  {
   "cell_type": "code",
   "execution_count": 14,
   "metadata": {},
   "outputs": [
    {
     "data": {
      "text/plain": [
       "<matplotlib.axes._subplots.AxesSubplot at 0x273c6a956d0>"
      ]
     },
     "execution_count": 14,
     "metadata": {},
     "output_type": "execute_result"
    },
    {
     "data": {
      "image/png": "[encoded data removed]",
      "text/plain": [
       "<Figure size 432x288 with 1 Axes>"
      ]
     },
     "metadata": {
      "needs_background": "light"
     },
     "output_type": "display_data"
    }
   ],
   "source": [
    "df_houses.LotFrontage.hist(bins=5)"
   ]
  },
  {
   "cell_type": "raw",
   "metadata": {},
   "source": [
    "The feature \"LotFrontage\" is composed by numeric data with a skewed distribution.\n",
    "This fact suggests the replacement of the missing values by the feature's median (considering only valid values).\n",
    "\n",
    "Nevertheless, given that there are many more missing values than any other individual value (shown in \"lotfrontage_value_counts\" and \"lotfrontage_value_percentage\"), we decided to replace the missing values by a token, and add a new feature indicating the rows with a missing value in \"LotFrontage\".\n",
    "\n",
    "Other consideration about these different approaches (median vs. token) is that, on one hand, the median relies on historical data, since the median is computed based on data that is already collected. Therefore, when computing a median, there is a dependency on time (when the data was collected).\n",
    "On the other hand, the token is independent from any consideration rather than the value being missing/nan.\n",
    "\n",
    "We believe that, with the aim of predicting housing sales prices (in this case, a pricing boundary), time is actually a great feature to take into account, given that house prices vary according to it. However, in this case, we are not working with any feature that gives information on time, thus strenghtenning our position on using the token approach.\n",
    "Although the prediction algorithm will obviously rely on these specific historical data, we still prefer to reduce the time dependency. In our opinion, it will increase the algorithm's resiliency."
   ]
  },
  {
   "cell_type": "code",
   "execution_count": 15,
   "metadata": {},
   "outputs": [
    {
     "name": "stderr",
     "output_type": "stream",
     "text": [
      "<ipython-input-15-2b9025ba5661>:4: SettingWithCopyWarning: \n",
      "A value is trying to be set on a copy of a slice from a DataFrame.\n",
      "Try using .loc[row_indexer,col_indexer] = value instead\n",
      "\n",
      "See the caveats in the documentation: https://pandas.pydata.org/pandas-docs/stable/user_guide/indexing.html#returning-a-view-versus-a-copy\n",
      "  df_houses['LotFrontage_encoded'] = df_houses.LotFrontage.fillna(value=MISSING_VALUE_TOKEN)\n"
     ]
    },
    {
     "data": {
      "text/plain": [
       "-1.0      259\n",
       " 60.0     143\n",
       " 70.0      70\n",
       " 80.0      69\n",
       " 50.0      57\n",
       "         ... \n",
       " 106.0      1\n",
       " 38.0       1\n",
       " 138.0      1\n",
       " 140.0      1\n",
       " 137.0      1\n",
       "Name: LotFrontage_encoded, Length: 111, dtype: int64"
      ]
     },
     "execution_count": 15,
     "metadata": {},
     "output_type": "execute_result"
    }
   ],
   "source": [
    "# MISSING_VALUE_TOKEN different from all the other values, as seen with \"df_houses.LotFrontage.describe()\"\n",
    "MISSING_VALUE_TOKEN = -1\n",
    "\n",
    "df_houses['LotFrontage_encoded'] = df_houses.LotFrontage.fillna(value=MISSING_VALUE_TOKEN)\n",
    "df_houses.LotFrontage_encoded.value_counts(dropna=False)"
   ]
  },
  {
   "cell_type": "code",
   "execution_count": 16,
   "metadata": {},
   "outputs": [
    {
     "name": "stderr",
     "output_type": "stream",
     "text": [
      "<ipython-input-16-eb25fab421ad>:1: SettingWithCopyWarning: \n",
      "A value is trying to be set on a copy of a slice from a DataFrame.\n",
      "Try using .loc[row_indexer,col_indexer] = value instead\n",
      "\n",
      "See the caveats in the documentation: https://pandas.pydata.org/pandas-docs/stable/user_guide/indexing.html#returning-a-view-versus-a-copy\n",
      "  df_houses['LotFrontage_is_nan'] = False\n",
      "C:\\Users\\nuno.pinheiro\\Anaconda3\\lib\\site-packages\\pandas\\core\\indexing.py:966: SettingWithCopyWarning: \n",
      "A value is trying to be set on a copy of a slice from a DataFrame.\n",
      "Try using .loc[row_indexer,col_indexer] = value instead\n",
      "\n",
      "See the caveats in the documentation: https://pandas.pydata.org/pandas-docs/stable/user_guide/indexing.html#returning-a-view-versus-a-copy\n",
      "  self.obj[item] = s\n"
     ]
    },
    {
     "data": {
      "text/plain": [
       "False    1201\n",
       "True      259\n",
       "Name: LotFrontage_is_nan, dtype: int64"
      ]
     },
     "execution_count": 16,
     "metadata": {},
     "output_type": "execute_result"
    }
   ],
   "source": [
    "df_houses['LotFrontage_is_nan'] = False\n",
    "df_houses.loc[df_houses.LotFrontage_encoded == MISSING_VALUE_TOKEN, 'LotFrontage_is_nan'] = True\n",
    "df_houses.LotFrontage_is_nan.value_counts()"
   ]
  },
  {
   "cell_type": "code",
   "execution_count": 17,
   "metadata": {},
   "outputs": [
    {
     "data": {
      "text/html": [
       "<div>\n",
       "<style scoped>\n",
       "    .dataframe tbody tr th:only-of-type {\n",
       "        vertical-align: middle;\n",
       "    }\n",
       "\n",
       "    .dataframe tbody tr th {\n",
       "        vertical-align: top;\n",
       "    }\n",
       "\n",
       "    .dataframe thead th {\n",
       "        text-align: right;\n",
       "    }\n",
       "</style>\n",
       "<table border=\"1\" class=\"dataframe\">\n",
       "  <thead>\n",
       "    <tr style=\"text-align: right;\">\n",
       "      <th></th>\n",
       "      <th>FullBath</th>\n",
       "      <th>TotRmsAbvGrd</th>\n",
       "      <th>Fireplaces</th>\n",
       "      <th>GarageYrBlt</th>\n",
       "      <th>GarageCars</th>\n",
       "      <th>GarageArea</th>\n",
       "      <th>LotFrontage</th>\n",
       "      <th>WoodDeckSF</th>\n",
       "      <th>OpenPorchSF</th>\n",
       "      <th>SaleType</th>\n",
       "      <th>SaleCondition</th>\n",
       "      <th>SalePrice</th>\n",
       "      <th>target</th>\n",
       "      <th>LotFrontage_encoded</th>\n",
       "      <th>LotFrontage_is_nan</th>\n",
       "    </tr>\n",
       "  </thead>\n",
       "  <tbody>\n",
       "    <tr>\n",
       "      <th>7</th>\n",
       "      <td>2</td>\n",
       "      <td>7</td>\n",
       "      <td>2</td>\n",
       "      <td>1973.0</td>\n",
       "      <td>2</td>\n",
       "      <td>484</td>\n",
       "      <td>NaN</td>\n",
       "      <td>235</td>\n",
       "      <td>204</td>\n",
       "      <td>WD</td>\n",
       "      <td>Normal</td>\n",
       "      <td>200000</td>\n",
       "      <td>1</td>\n",
       "      <td>-1.0</td>\n",
       "      <td>True</td>\n",
       "    </tr>\n",
       "    <tr>\n",
       "      <th>12</th>\n",
       "      <td>1</td>\n",
       "      <td>4</td>\n",
       "      <td>0</td>\n",
       "      <td>1962.0</td>\n",
       "      <td>1</td>\n",
       "      <td>352</td>\n",
       "      <td>NaN</td>\n",
       "      <td>140</td>\n",
       "      <td>0</td>\n",
       "      <td>WD</td>\n",
       "      <td>Normal</td>\n",
       "      <td>144000</td>\n",
       "      <td>0</td>\n",
       "      <td>-1.0</td>\n",
       "      <td>True</td>\n",
       "    </tr>\n",
       "    <tr>\n",
       "      <th>14</th>\n",
       "      <td>1</td>\n",
       "      <td>5</td>\n",
       "      <td>1</td>\n",
       "      <td>1960.0</td>\n",
       "      <td>1</td>\n",
       "      <td>352</td>\n",
       "      <td>NaN</td>\n",
       "      <td>0</td>\n",
       "      <td>213</td>\n",
       "      <td>WD</td>\n",
       "      <td>Normal</td>\n",
       "      <td>157000</td>\n",
       "      <td>0</td>\n",
       "      <td>-1.0</td>\n",
       "      <td>True</td>\n",
       "    </tr>\n",
       "  </tbody>\n",
       "</table>\n",
       "</div>"
      ],
      "text/plain": [
       "    FullBath  TotRmsAbvGrd  Fireplaces  GarageYrBlt  GarageCars  GarageArea  \\\n",
       "7          2             7           2       1973.0           2         484   \n",
       "12         1             4           0       1962.0           1         352   \n",
       "14         1             5           1       1960.0           1         352   \n",
       "\n",
       "    LotFrontage  WoodDeckSF  OpenPorchSF SaleType SaleCondition  SalePrice  \\\n",
       "7           NaN         235          204       WD        Normal     200000   \n",
       "12          NaN         140            0       WD        Normal     144000   \n",
       "14          NaN           0          213       WD        Normal     157000   \n",
       "\n",
       "    target  LotFrontage_encoded  LotFrontage_is_nan  \n",
       "7        1                 -1.0                True  \n",
       "12       0                 -1.0                True  \n",
       "14       0                 -1.0                True  "
      ]
     },
     "execution_count": 17,
     "metadata": {},
     "output_type": "execute_result"
    }
   ],
   "source": [
    "df_houses.loc[df_houses.LotFrontage_encoded == MISSING_VALUE_TOKEN, :].head(3)"
   ]
  },
  {
   "cell_type": "code",
   "execution_count": 18,
   "metadata": {},
   "outputs": [
    {
     "data": {
      "text/html": [
       "<div>\n",
       "<style scoped>\n",
       "    .dataframe tbody tr th:only-of-type {\n",
       "        vertical-align: middle;\n",
       "    }\n",
       "\n",
       "    .dataframe tbody tr th {\n",
       "        vertical-align: top;\n",
       "    }\n",
       "\n",
       "    .dataframe thead th {\n",
       "        text-align: right;\n",
       "    }\n",
       "</style>\n",
       "<table border=\"1\" class=\"dataframe\">\n",
       "  <thead>\n",
       "    <tr style=\"text-align: right;\">\n",
       "      <th></th>\n",
       "      <th>FullBath</th>\n",
       "      <th>TotRmsAbvGrd</th>\n",
       "      <th>Fireplaces</th>\n",
       "      <th>GarageYrBlt</th>\n",
       "      <th>GarageCars</th>\n",
       "      <th>GarageArea</th>\n",
       "      <th>LotFrontage</th>\n",
       "      <th>WoodDeckSF</th>\n",
       "      <th>OpenPorchSF</th>\n",
       "      <th>SaleType</th>\n",
       "      <th>SaleCondition</th>\n",
       "      <th>SalePrice</th>\n",
       "      <th>target</th>\n",
       "      <th>LotFrontage_encoded</th>\n",
       "      <th>LotFrontage_is_nan</th>\n",
       "    </tr>\n",
       "  </thead>\n",
       "  <tbody>\n",
       "    <tr>\n",
       "      <th>0</th>\n",
       "      <td>2</td>\n",
       "      <td>8</td>\n",
       "      <td>0</td>\n",
       "      <td>2003.0</td>\n",
       "      <td>2</td>\n",
       "      <td>548</td>\n",
       "      <td>65.0</td>\n",
       "      <td>0</td>\n",
       "      <td>61</td>\n",
       "      <td>WD</td>\n",
       "      <td>Normal</td>\n",
       "      <td>208500</td>\n",
       "      <td>1</td>\n",
       "      <td>65.0</td>\n",
       "      <td>False</td>\n",
       "    </tr>\n",
       "    <tr>\n",
       "      <th>1</th>\n",
       "      <td>2</td>\n",
       "      <td>6</td>\n",
       "      <td>1</td>\n",
       "      <td>1976.0</td>\n",
       "      <td>2</td>\n",
       "      <td>460</td>\n",
       "      <td>80.0</td>\n",
       "      <td>298</td>\n",
       "      <td>0</td>\n",
       "      <td>WD</td>\n",
       "      <td>Normal</td>\n",
       "      <td>181500</td>\n",
       "      <td>1</td>\n",
       "      <td>80.0</td>\n",
       "      <td>False</td>\n",
       "    </tr>\n",
       "    <tr>\n",
       "      <th>2</th>\n",
       "      <td>2</td>\n",
       "      <td>6</td>\n",
       "      <td>1</td>\n",
       "      <td>2001.0</td>\n",
       "      <td>2</td>\n",
       "      <td>608</td>\n",
       "      <td>68.0</td>\n",
       "      <td>0</td>\n",
       "      <td>42</td>\n",
       "      <td>WD</td>\n",
       "      <td>Normal</td>\n",
       "      <td>223500</td>\n",
       "      <td>1</td>\n",
       "      <td>68.0</td>\n",
       "      <td>False</td>\n",
       "    </tr>\n",
       "  </tbody>\n",
       "</table>\n",
       "</div>"
      ],
      "text/plain": [
       "   FullBath  TotRmsAbvGrd  Fireplaces  GarageYrBlt  GarageCars  GarageArea  \\\n",
       "0         2             8           0       2003.0           2         548   \n",
       "1         2             6           1       1976.0           2         460   \n",
       "2         2             6           1       2001.0           2         608   \n",
       "\n",
       "   LotFrontage  WoodDeckSF  OpenPorchSF SaleType SaleCondition  SalePrice  \\\n",
       "0         65.0           0           61       WD        Normal     208500   \n",
       "1         80.0         298            0       WD        Normal     181500   \n",
       "2         68.0           0           42       WD        Normal     223500   \n",
       "\n",
       "   target  LotFrontage_encoded  LotFrontage_is_nan  \n",
       "0       1                 65.0               False  \n",
       "1       1                 80.0               False  \n",
       "2       1                 68.0               False  "
      ]
     },
     "execution_count": 18,
     "metadata": {},
     "output_type": "execute_result"
    }
   ],
   "source": [
    "df_houses.loc[df_houses.LotFrontage_encoded != MISSING_VALUE_TOKEN, :].head(3)"
   ]
  },
  {
   "cell_type": "code",
   "execution_count": null,
   "metadata": {},
   "outputs": [],
   "source": []
  },
  {
   "cell_type": "markdown",
   "metadata": {},
   "source": [
    "## Categorical Data"
   ]
  },
  {
   "cell_type": "markdown",
   "metadata": {},
   "source": [
    "Creating a `df_categorical` dataframe with the categorical features"
   ]
  },
  {
   "cell_type": "code",
   "execution_count": 19,
   "metadata": {
    "scrolled": true
   },
   "outputs": [
    {
     "data": {
      "text/html": [
       "<div>\n",
       "<style scoped>\n",
       "    .dataframe tbody tr th:only-of-type {\n",
       "        vertical-align: middle;\n",
       "    }\n",
       "\n",
       "    .dataframe tbody tr th {\n",
       "        vertical-align: top;\n",
       "    }\n",
       "\n",
       "    .dataframe thead th {\n",
       "        text-align: right;\n",
       "    }\n",
       "</style>\n",
       "<table border=\"1\" class=\"dataframe\">\n",
       "  <thead>\n",
       "    <tr style=\"text-align: right;\">\n",
       "      <th></th>\n",
       "      <th>FullBath</th>\n",
       "      <th>TotRmsAbvGrd</th>\n",
       "      <th>Fireplaces</th>\n",
       "      <th>GarageYrBlt</th>\n",
       "      <th>GarageCars</th>\n",
       "      <th>GarageArea</th>\n",
       "      <th>LotFrontage</th>\n",
       "      <th>WoodDeckSF</th>\n",
       "      <th>OpenPorchSF</th>\n",
       "      <th>SalePrice</th>\n",
       "      <th>target</th>\n",
       "      <th>LotFrontage_encoded</th>\n",
       "    </tr>\n",
       "  </thead>\n",
       "  <tbody>\n",
       "    <tr>\n",
       "      <th>count</th>\n",
       "      <td>1460.000000</td>\n",
       "      <td>1460.000000</td>\n",
       "      <td>1460.000000</td>\n",
       "      <td>1379.000000</td>\n",
       "      <td>1460.000000</td>\n",
       "      <td>1460.000000</td>\n",
       "      <td>1201.000000</td>\n",
       "      <td>1460.000000</td>\n",
       "      <td>1460.000000</td>\n",
       "      <td>1460.000000</td>\n",
       "      <td>1460.000000</td>\n",
       "      <td>1460.000000</td>\n",
       "    </tr>\n",
       "    <tr>\n",
       "      <th>mean</th>\n",
       "      <td>1.565068</td>\n",
       "      <td>6.517808</td>\n",
       "      <td>0.613014</td>\n",
       "      <td>1978.506164</td>\n",
       "      <td>1.767123</td>\n",
       "      <td>472.980137</td>\n",
       "      <td>70.049958</td>\n",
       "      <td>94.244521</td>\n",
       "      <td>46.660274</td>\n",
       "      <td>180921.195890</td>\n",
       "      <td>0.498630</td>\n",
       "      <td>57.445890</td>\n",
       "    </tr>\n",
       "    <tr>\n",
       "      <th>std</th>\n",
       "      <td>0.550916</td>\n",
       "      <td>1.625393</td>\n",
       "      <td>0.644666</td>\n",
       "      <td>24.689725</td>\n",
       "      <td>0.747315</td>\n",
       "      <td>213.804841</td>\n",
       "      <td>24.284752</td>\n",
       "      <td>125.338794</td>\n",
       "      <td>66.256028</td>\n",
       "      <td>79442.502883</td>\n",
       "      <td>0.500169</td>\n",
       "      <td>34.960241</td>\n",
       "    </tr>\n",
       "    <tr>\n",
       "      <th>min</th>\n",
       "      <td>0.000000</td>\n",
       "      <td>2.000000</td>\n",
       "      <td>0.000000</td>\n",
       "      <td>1900.000000</td>\n",
       "      <td>0.000000</td>\n",
       "      <td>0.000000</td>\n",
       "      <td>21.000000</td>\n",
       "      <td>0.000000</td>\n",
       "      <td>0.000000</td>\n",
       "      <td>34900.000000</td>\n",
       "      <td>0.000000</td>\n",
       "      <td>-1.000000</td>\n",
       "    </tr>\n",
       "    <tr>\n",
       "      <th>25%</th>\n",
       "      <td>1.000000</td>\n",
       "      <td>5.000000</td>\n",
       "      <td>0.000000</td>\n",
       "      <td>1961.000000</td>\n",
       "      <td>1.000000</td>\n",
       "      <td>334.500000</td>\n",
       "      <td>59.000000</td>\n",
       "      <td>0.000000</td>\n",
       "      <td>0.000000</td>\n",
       "      <td>129975.000000</td>\n",
       "      <td>0.000000</td>\n",
       "      <td>42.000000</td>\n",
       "    </tr>\n",
       "    <tr>\n",
       "      <th>50%</th>\n",
       "      <td>2.000000</td>\n",
       "      <td>6.000000</td>\n",
       "      <td>1.000000</td>\n",
       "      <td>1980.000000</td>\n",
       "      <td>2.000000</td>\n",
       "      <td>480.000000</td>\n",
       "      <td>69.000000</td>\n",
       "      <td>0.000000</td>\n",
       "      <td>25.000000</td>\n",
       "      <td>163000.000000</td>\n",
       "      <td>0.000000</td>\n",
       "      <td>63.000000</td>\n",
       "    </tr>\n",
       "    <tr>\n",
       "      <th>75%</th>\n",
       "      <td>2.000000</td>\n",
       "      <td>7.000000</td>\n",
       "      <td>1.000000</td>\n",
       "      <td>2002.000000</td>\n",
       "      <td>2.000000</td>\n",
       "      <td>576.000000</td>\n",
       "      <td>80.000000</td>\n",
       "      <td>168.000000</td>\n",
       "      <td>68.000000</td>\n",
       "      <td>214000.000000</td>\n",
       "      <td>1.000000</td>\n",
       "      <td>79.000000</td>\n",
       "    </tr>\n",
       "    <tr>\n",
       "      <th>max</th>\n",
       "      <td>3.000000</td>\n",
       "      <td>14.000000</td>\n",
       "      <td>3.000000</td>\n",
       "      <td>2010.000000</td>\n",
       "      <td>4.000000</td>\n",
       "      <td>1418.000000</td>\n",
       "      <td>313.000000</td>\n",
       "      <td>857.000000</td>\n",
       "      <td>547.000000</td>\n",
       "      <td>755000.000000</td>\n",
       "      <td>1.000000</td>\n",
       "      <td>313.000000</td>\n",
       "    </tr>\n",
       "  </tbody>\n",
       "</table>\n",
       "</div>"
      ],
      "text/plain": [
       "          FullBath  TotRmsAbvGrd   Fireplaces  GarageYrBlt   GarageCars  \\\n",
       "count  1460.000000   1460.000000  1460.000000  1379.000000  1460.000000   \n",
       "mean      1.565068      6.517808     0.613014  1978.506164     1.767123   \n",
       "std       0.550916      1.625393     0.644666    24.689725     0.747315   \n",
       "min       0.000000      2.000000     0.000000  1900.000000     0.000000   \n",
       "25%       1.000000      5.000000     0.000000  1961.000000     1.000000   \n",
       "50%       2.000000      6.000000     1.000000  1980.000000     2.000000   \n",
       "75%       2.000000      7.000000     1.000000  2002.000000     2.000000   \n",
       "max       3.000000     14.000000     3.000000  2010.000000     4.000000   \n",
       "\n",
       "        GarageArea  LotFrontage   WoodDeckSF  OpenPorchSF      SalePrice  \\\n",
       "count  1460.000000  1201.000000  1460.000000  1460.000000    1460.000000   \n",
       "mean    472.980137    70.049958    94.244521    46.660274  180921.195890   \n",
       "std     213.804841    24.284752   125.338794    66.256028   79442.502883   \n",
       "min       0.000000    21.000000     0.000000     0.000000   34900.000000   \n",
       "25%     334.500000    59.000000     0.000000     0.000000  129975.000000   \n",
       "50%     480.000000    69.000000     0.000000    25.000000  163000.000000   \n",
       "75%     576.000000    80.000000   168.000000    68.000000  214000.000000   \n",
       "max    1418.000000   313.000000   857.000000   547.000000  755000.000000   \n",
       "\n",
       "            target  LotFrontage_encoded  \n",
       "count  1460.000000          1460.000000  \n",
       "mean      0.498630            57.445890  \n",
       "std       0.500169            34.960241  \n",
       "min       0.000000            -1.000000  \n",
       "25%       0.000000            42.000000  \n",
       "50%       0.000000            63.000000  \n",
       "75%       1.000000            79.000000  \n",
       "max       1.000000           313.000000  "
      ]
     },
     "execution_count": 19,
     "metadata": {},
     "output_type": "execute_result"
    }
   ],
   "source": [
    "df_houses.describe()"
   ]
  },
  {
   "cell_type": "code",
   "execution_count": 20,
   "metadata": {},
   "outputs": [
    {
     "name": "stdout",
     "output_type": "stream",
     "text": [
      "<class 'pandas.core.frame.DataFrame'>\n",
      "RangeIndex: 1460 entries, 0 to 1459\n",
      "Data columns (total 15 columns):\n",
      " #   Column               Non-Null Count  Dtype  \n",
      "---  ------               --------------  -----  \n",
      " 0   FullBath             1460 non-null   int64  \n",
      " 1   TotRmsAbvGrd         1460 non-null   int64  \n",
      " 2   Fireplaces           1460 non-null   int64  \n",
      " 3   GarageYrBlt          1379 non-null   float64\n",
      " 4   GarageCars           1460 non-null   int64  \n",
      " 5   GarageArea           1460 non-null   int64  \n",
      " 6   LotFrontage          1201 non-null   float64\n",
      " 7   WoodDeckSF           1460 non-null   int64  \n",
      " 8   OpenPorchSF          1460 non-null   int64  \n",
      " 9   SaleType             1460 non-null   object \n",
      " 10  SaleCondition        1460 non-null   object \n",
      " 11  SalePrice            1460 non-null   int64  \n",
      " 12  target               1460 non-null   int64  \n",
      " 13  LotFrontage_encoded  1460 non-null   float64\n",
      " 14  LotFrontage_is_nan   1460 non-null   bool   \n",
      "dtypes: bool(1), float64(3), int64(9), object(2)\n",
      "memory usage: 161.2+ KB\n"
     ]
    }
   ],
   "source": [
    "df_houses.info()"
   ]
  },
  {
   "cell_type": "raw",
   "metadata": {},
   "source": [
    "There are two series with dtype object: 'SaleType' and 'SaleCondition'. All the others seem to be actually numeric, as stated - except for the 'LotFrontage_is_nan' we added.\n",
    "Thus, we will consider 'SaleType' and 'SaleCondition' as categorical data."
   ]
  },
  {
   "cell_type": "code",
   "execution_count": 21,
   "metadata": {},
   "outputs": [
    {
     "data": {
      "text/plain": [
       "CategoricalDtype(categories=['COD', 'CWD', 'Con', 'ConLD', 'ConLI', 'ConLw', 'New', 'Oth',\n",
       "                  'WD'],\n",
       "                 ordered=False)"
      ]
     },
     "execution_count": 21,
     "metadata": {},
     "output_type": "execute_result"
    }
   ],
   "source": [
    "sale_type_cat = df_houses.SaleType.astype('category')\n",
    "sale_type_cat.dtype"
   ]
  },
  {
   "cell_type": "code",
   "execution_count": 22,
   "metadata": {},
   "outputs": [
    {
     "data": {
      "text/plain": [
       "CategoricalDtype(categories=['Abnorml', 'AdjLand', 'Alloca', 'Family', 'Normal',\n",
       "                  'Partial'],\n",
       "                 ordered=False)"
      ]
     },
     "execution_count": 22,
     "metadata": {},
     "output_type": "execute_result"
    }
   ],
   "source": [
    "sale_condition_cat = df_houses.SaleCondition.astype('category')\n",
    "sale_condition_cat.dtype"
   ]
  },
  {
   "cell_type": "code",
   "execution_count": 23,
   "metadata": {},
   "outputs": [
    {
     "data": {
      "text/html": [
       "<div>\n",
       "<style scoped>\n",
       "    .dataframe tbody tr th:only-of-type {\n",
       "        vertical-align: middle;\n",
       "    }\n",
       "\n",
       "    .dataframe tbody tr th {\n",
       "        vertical-align: top;\n",
       "    }\n",
       "\n",
       "    .dataframe thead th {\n",
       "        text-align: right;\n",
       "    }\n",
       "</style>\n",
       "<table border=\"1\" class=\"dataframe\">\n",
       "  <thead>\n",
       "    <tr style=\"text-align: right;\">\n",
       "      <th></th>\n",
       "      <th>SaleType</th>\n",
       "      <th>SaleCondition</th>\n",
       "    </tr>\n",
       "  </thead>\n",
       "  <tbody>\n",
       "    <tr>\n",
       "      <th>0</th>\n",
       "      <td>WD</td>\n",
       "      <td>Normal</td>\n",
       "    </tr>\n",
       "    <tr>\n",
       "      <th>1</th>\n",
       "      <td>WD</td>\n",
       "      <td>Normal</td>\n",
       "    </tr>\n",
       "    <tr>\n",
       "      <th>2</th>\n",
       "      <td>WD</td>\n",
       "      <td>Normal</td>\n",
       "    </tr>\n",
       "    <tr>\n",
       "      <th>3</th>\n",
       "      <td>WD</td>\n",
       "      <td>Abnorml</td>\n",
       "    </tr>\n",
       "    <tr>\n",
       "      <th>4</th>\n",
       "      <td>WD</td>\n",
       "      <td>Normal</td>\n",
       "    </tr>\n",
       "  </tbody>\n",
       "</table>\n",
       "</div>"
      ],
      "text/plain": [
       "  SaleType SaleCondition\n",
       "0       WD        Normal\n",
       "1       WD        Normal\n",
       "2       WD        Normal\n",
       "3       WD       Abnorml\n",
       "4       WD        Normal"
      ]
     },
     "execution_count": 23,
     "metadata": {},
     "output_type": "execute_result"
    }
   ],
   "source": [
    "df_categorical = pd.concat([sale_type_cat.to_frame(), sale_condition_cat.to_frame()], axis=1)\n",
    "df_categorical.head()"
   ]
  },
  {
   "cell_type": "code",
   "execution_count": null,
   "metadata": {},
   "outputs": [],
   "source": []
  },
  {
   "cell_type": "markdown",
   "metadata": {},
   "source": [
    "#### Apply OHE to `SaleType`"
   ]
  },
  {
   "cell_type": "code",
   "execution_count": 24,
   "metadata": {},
   "outputs": [],
   "source": [
    "df_sale_type_ohe = get_ohe_dataframe(df_categorical.SaleType, 'SaleType_')"
   ]
  },
  {
   "cell_type": "code",
   "execution_count": 25,
   "metadata": {},
   "outputs": [
    {
     "data": {
      "text/html": [
       "<div>\n",
       "<style scoped>\n",
       "    .dataframe tbody tr th:only-of-type {\n",
       "        vertical-align: middle;\n",
       "    }\n",
       "\n",
       "    .dataframe tbody tr th {\n",
       "        vertical-align: top;\n",
       "    }\n",
       "\n",
       "    .dataframe thead th {\n",
       "        text-align: right;\n",
       "    }\n",
       "</style>\n",
       "<table border=\"1\" class=\"dataframe\">\n",
       "  <thead>\n",
       "    <tr style=\"text-align: right;\">\n",
       "      <th></th>\n",
       "      <th>SaleType_COD</th>\n",
       "      <th>SaleType_CWD</th>\n",
       "      <th>SaleType_Con</th>\n",
       "      <th>SaleType_ConLD</th>\n",
       "      <th>SaleType_ConLI</th>\n",
       "      <th>SaleType_ConLw</th>\n",
       "      <th>SaleType_New</th>\n",
       "      <th>SaleType_Oth</th>\n",
       "      <th>SaleType_WD</th>\n",
       "    </tr>\n",
       "  </thead>\n",
       "  <tbody>\n",
       "    <tr>\n",
       "      <th>0</th>\n",
       "      <td>0</td>\n",
       "      <td>0</td>\n",
       "      <td>0</td>\n",
       "      <td>0</td>\n",
       "      <td>0</td>\n",
       "      <td>0</td>\n",
       "      <td>0</td>\n",
       "      <td>0</td>\n",
       "      <td>1</td>\n",
       "    </tr>\n",
       "    <tr>\n",
       "      <th>1</th>\n",
       "      <td>0</td>\n",
       "      <td>0</td>\n",
       "      <td>0</td>\n",
       "      <td>0</td>\n",
       "      <td>0</td>\n",
       "      <td>0</td>\n",
       "      <td>0</td>\n",
       "      <td>0</td>\n",
       "      <td>1</td>\n",
       "    </tr>\n",
       "    <tr>\n",
       "      <th>2</th>\n",
       "      <td>0</td>\n",
       "      <td>0</td>\n",
       "      <td>0</td>\n",
       "      <td>0</td>\n",
       "      <td>0</td>\n",
       "      <td>0</td>\n",
       "      <td>0</td>\n",
       "      <td>0</td>\n",
       "      <td>1</td>\n",
       "    </tr>\n",
       "  </tbody>\n",
       "</table>\n",
       "</div>"
      ],
      "text/plain": [
       "   SaleType_COD  SaleType_CWD  SaleType_Con  SaleType_ConLD  SaleType_ConLI  \\\n",
       "0             0             0             0               0               0   \n",
       "1             0             0             0               0               0   \n",
       "2             0             0             0               0               0   \n",
       "\n",
       "   SaleType_ConLw  SaleType_New  SaleType_Oth  SaleType_WD  \n",
       "0               0             0             0            1  \n",
       "1               0             0             0            1  \n",
       "2               0             0             0            1  "
      ]
     },
     "execution_count": 25,
     "metadata": {},
     "output_type": "execute_result"
    }
   ],
   "source": [
    "df_sale_type_ohe.head(3)"
   ]
  },
  {
   "cell_type": "code",
   "execution_count": null,
   "metadata": {},
   "outputs": [],
   "source": []
  },
  {
   "cell_type": "markdown",
   "metadata": {},
   "source": [
    "## Feature Scaling"
   ]
  },
  {
   "cell_type": "markdown",
   "metadata": {},
   "source": [
    "#### Scaling `GarageArea` to [-1/3; 3]"
   ]
  },
  {
   "cell_type": "code",
   "execution_count": 26,
   "metadata": {},
   "outputs": [
    {
     "data": {
      "text/html": [
       "<div>\n",
       "<style scoped>\n",
       "    .dataframe tbody tr th:only-of-type {\n",
       "        vertical-align: middle;\n",
       "    }\n",
       "\n",
       "    .dataframe tbody tr th {\n",
       "        vertical-align: top;\n",
       "    }\n",
       "\n",
       "    .dataframe thead th {\n",
       "        text-align: right;\n",
       "    }\n",
       "</style>\n",
       "<table border=\"1\" class=\"dataframe\">\n",
       "  <thead>\n",
       "    <tr style=\"text-align: right;\">\n",
       "      <th></th>\n",
       "      <th>GarageArea_scaled</th>\n",
       "    </tr>\n",
       "  </thead>\n",
       "  <tbody>\n",
       "    <tr>\n",
       "      <th>count</th>\n",
       "      <td>1460.000000</td>\n",
       "    </tr>\n",
       "    <tr>\n",
       "      <th>mean</th>\n",
       "      <td>0.778515</td>\n",
       "    </tr>\n",
       "    <tr>\n",
       "      <th>std</th>\n",
       "      <td>0.502597</td>\n",
       "    </tr>\n",
       "    <tr>\n",
       "      <th>min</th>\n",
       "      <td>-0.333333</td>\n",
       "    </tr>\n",
       "    <tr>\n",
       "      <th>25%</th>\n",
       "      <td>0.452985</td>\n",
       "    </tr>\n",
       "    <tr>\n",
       "      <th>50%</th>\n",
       "      <td>0.795016</td>\n",
       "    </tr>\n",
       "    <tr>\n",
       "      <th>75%</th>\n",
       "      <td>1.020686</td>\n",
       "    </tr>\n",
       "    <tr>\n",
       "      <th>max</th>\n",
       "      <td>3.000000</td>\n",
       "    </tr>\n",
       "  </tbody>\n",
       "</table>\n",
       "</div>"
      ],
      "text/plain": [
       "       GarageArea_scaled\n",
       "count        1460.000000\n",
       "mean            0.778515\n",
       "std             0.502597\n",
       "min            -0.333333\n",
       "25%             0.452985\n",
       "50%             0.795016\n",
       "75%             1.020686\n",
       "max             3.000000"
      ]
     },
     "execution_count": 26,
     "metadata": {},
     "output_type": "execute_result"
    }
   ],
   "source": [
    "garage_area_scaled = get_series_scaled_dataframe(df_houses.GarageArea, 'GarageArea_scaled', (-1/3), 3)\n",
    "garage_area_scaled.describe()"
   ]
  },
  {
   "cell_type": "code",
   "execution_count": null,
   "metadata": {},
   "outputs": [],
   "source": []
  },
  {
   "cell_type": "markdown",
   "metadata": {},
   "source": [
    "# Feature Engineering to predict Sale Price boundaries (target variable)"
   ]
  },
  {
   "cell_type": "markdown",
   "metadata": {},
   "source": [
    "Remark:\n",
    "* Use 3 mandatory features\n",
    "* Use more 3 optional features\n",
    "* Improve the algorithms performance with feature engineering"
   ]
  },
  {
   "cell_type": "markdown",
   "metadata": {},
   "source": [
    "### A. Target variable"
   ]
  },
  {
   "cell_type": "code",
   "execution_count": 27,
   "metadata": {},
   "outputs": [],
   "source": [
    "target_saleprice = df_houses.target"
   ]
  },
  {
   "cell_type": "code",
   "execution_count": null,
   "metadata": {},
   "outputs": [],
   "source": []
  },
  {
   "cell_type": "markdown",
   "metadata": {},
   "source": [
    "### B. Mandatory features"
   ]
  },
  {
   "cell_type": "raw",
   "metadata": {},
   "source": [
    "The train sample must have three mandatory features: 'YearBuilt', 'LotFrontage' and 'MasVnrType'.\n",
    "Before any other evaluation, we will evaluate this set."
   ]
  },
  {
   "cell_type": "markdown",
   "metadata": {},
   "source": [
    "#### B.1. Categorical Data - 'MasVnrType'"
   ]
  },
  {
   "cell_type": "code",
   "execution_count": 28,
   "metadata": {},
   "outputs": [
    {
     "data": {
      "text/plain": [
       "CategoricalDtype(categories=['BrkCmn', 'BrkFace', 'None', 'Stone'], ordered=False)"
      ]
     },
     "execution_count": 28,
     "metadata": {},
     "output_type": "execute_result"
    }
   ],
   "source": [
    "# 'MasVnrType' is categorical, so, it must be processed as such\n",
    "masvnrtype_cat = df_houses_raw.MasVnrType.astype('category')\n",
    "masvnrtype_cat.dtype"
   ]
  },
  {
   "cell_type": "raw",
   "metadata": {},
   "source": [
    "The 'train_and_evaluation' function we will use treats only numerical values, so, we have to turn the feature 'MasVnrType' into a numeric type. We will actually divide this feature into binary ones, through One-Hot Encoding (OHE)."
   ]
  },
  {
   "cell_type": "code",
   "execution_count": 29,
   "metadata": {},
   "outputs": [
    {
     "data": {
      "text/html": [
       "<div>\n",
       "<style scoped>\n",
       "    .dataframe tbody tr th:only-of-type {\n",
       "        vertical-align: middle;\n",
       "    }\n",
       "\n",
       "    .dataframe tbody tr th {\n",
       "        vertical-align: top;\n",
       "    }\n",
       "\n",
       "    .dataframe thead th {\n",
       "        text-align: right;\n",
       "    }\n",
       "</style>\n",
       "<table border=\"1\" class=\"dataframe\">\n",
       "  <thead>\n",
       "    <tr style=\"text-align: right;\">\n",
       "      <th></th>\n",
       "      <th>MasVnrType_BrkCmn</th>\n",
       "      <th>MasVnrType_BrkFace</th>\n",
       "      <th>MasVnrType_None</th>\n",
       "      <th>MasVnrType_Stone</th>\n",
       "    </tr>\n",
       "  </thead>\n",
       "  <tbody>\n",
       "    <tr>\n",
       "      <th>0</th>\n",
       "      <td>0</td>\n",
       "      <td>1</td>\n",
       "      <td>0</td>\n",
       "      <td>0</td>\n",
       "    </tr>\n",
       "  </tbody>\n",
       "</table>\n",
       "</div>"
      ],
      "text/plain": [
       "   MasVnrType_BrkCmn  MasVnrType_BrkFace  MasVnrType_None  MasVnrType_Stone\n",
       "0                  0                   1                0                 0"
      ]
     },
     "execution_count": 29,
     "metadata": {},
     "output_type": "execute_result"
    }
   ],
   "source": [
    "masvnrtype_cat_ohe = get_ohe_dataframe(masvnrtype_cat, 'MasVnrType_')\n",
    "masvnrtype_cat_ohe.head(1)"
   ]
  },
  {
   "cell_type": "markdown",
   "metadata": {},
   "source": [
    "#### B.2 Missing Values - 'LotFrontage'"
   ]
  },
  {
   "cell_type": "code",
   "execution_count": 30,
   "metadata": {},
   "outputs": [
    {
     "data": {
      "text/plain": [
       "YearBuilt               0\n",
       "LotFrontage           259\n",
       "MasVnrType_BrkCmn       0\n",
       "MasVnrType_BrkFace      0\n",
       "MasVnrType_None         0\n",
       "MasVnrType_Stone        0\n",
       "dtype: int64"
      ]
     },
     "execution_count": 30,
     "metadata": {},
     "output_type": "execute_result"
    }
   ],
   "source": [
    "pd.concat([df_houses_raw.YearBuilt, df_houses_raw.LotFrontage, masvnrtype_cat_ohe], axis=1).isnull().sum()"
   ]
  },
  {
   "cell_type": "raw",
   "metadata": {},
   "source": [
    "As seen above, within the mandatory features, the 'LotFrontage' is the only one with missing values. Therefore, we will replace the original column by the attributes 'LotFrontage_encoded' and 'LotFrontage_is_nan', created in Part 1."
   ]
  },
  {
   "cell_type": "code",
   "execution_count": 31,
   "metadata": {},
   "outputs": [
    {
     "data": {
      "text/html": [
       "<div>\n",
       "<style scoped>\n",
       "    .dataframe tbody tr th:only-of-type {\n",
       "        vertical-align: middle;\n",
       "    }\n",
       "\n",
       "    .dataframe tbody tr th {\n",
       "        vertical-align: top;\n",
       "    }\n",
       "\n",
       "    .dataframe thead th {\n",
       "        text-align: right;\n",
       "    }\n",
       "</style>\n",
       "<table border=\"1\" class=\"dataframe\">\n",
       "  <thead>\n",
       "    <tr style=\"text-align: right;\">\n",
       "      <th></th>\n",
       "      <th>LotFrontage_encoded</th>\n",
       "      <th>LotFrontage_is_nan</th>\n",
       "    </tr>\n",
       "  </thead>\n",
       "  <tbody>\n",
       "    <tr>\n",
       "      <th>0</th>\n",
       "      <td>65.0</td>\n",
       "      <td>False</td>\n",
       "    </tr>\n",
       "  </tbody>\n",
       "</table>\n",
       "</div>"
      ],
      "text/plain": [
       "   LotFrontage_encoded  LotFrontage_is_nan\n",
       "0                 65.0               False"
      ]
     },
     "execution_count": 31,
     "metadata": {},
     "output_type": "execute_result"
    }
   ],
   "source": [
    "lotfrontage_missing_encoded = pd.concat([df_houses.LotFrontage_encoded, df_houses.LotFrontage_is_nan], axis=1)\n",
    "lotfrontage_missing_encoded.head(1)"
   ]
  },
  {
   "cell_type": "markdown",
   "metadata": {},
   "source": [
    "#### B.3. Dataset with 'YearBuilt', 'LotFrontage' encoded columns and 'MasVnrType' OHE columns"
   ]
  },
  {
   "cell_type": "code",
   "execution_count": 32,
   "metadata": {},
   "outputs": [
    {
     "data": {
      "text/html": [
       "<div>\n",
       "<style scoped>\n",
       "    .dataframe tbody tr th:only-of-type {\n",
       "        vertical-align: middle;\n",
       "    }\n",
       "\n",
       "    .dataframe tbody tr th {\n",
       "        vertical-align: top;\n",
       "    }\n",
       "\n",
       "    .dataframe thead th {\n",
       "        text-align: right;\n",
       "    }\n",
       "</style>\n",
       "<table border=\"1\" class=\"dataframe\">\n",
       "  <thead>\n",
       "    <tr style=\"text-align: right;\">\n",
       "      <th></th>\n",
       "      <th>YearBuilt</th>\n",
       "      <th>LotFrontage_encoded</th>\n",
       "      <th>LotFrontage_is_nan</th>\n",
       "      <th>MasVnrType_BrkCmn</th>\n",
       "      <th>MasVnrType_BrkFace</th>\n",
       "      <th>MasVnrType_None</th>\n",
       "      <th>MasVnrType_Stone</th>\n",
       "    </tr>\n",
       "  </thead>\n",
       "  <tbody>\n",
       "    <tr>\n",
       "      <th>0</th>\n",
       "      <td>2003</td>\n",
       "      <td>65.0</td>\n",
       "      <td>False</td>\n",
       "      <td>0</td>\n",
       "      <td>1</td>\n",
       "      <td>0</td>\n",
       "      <td>0</td>\n",
       "    </tr>\n",
       "  </tbody>\n",
       "</table>\n",
       "</div>"
      ],
      "text/plain": [
       "   YearBuilt  LotFrontage_encoded  LotFrontage_is_nan  MasVnrType_BrkCmn  \\\n",
       "0       2003                 65.0               False                  0   \n",
       "\n",
       "   MasVnrType_BrkFace  MasVnrType_None  MasVnrType_Stone  \n",
       "0                   1                0                 0  "
      ]
     },
     "execution_count": 32,
     "metadata": {},
     "output_type": "execute_result"
    }
   ],
   "source": [
    "df_mandatory = pd.concat([df_houses_raw.YearBuilt, lotfrontage_missing_encoded, masvnrtype_cat_ohe], axis=1)\n",
    "df_mandatory.head(1)"
   ]
  },
  {
   "cell_type": "markdown",
   "metadata": {},
   "source": [
    "#### B.4. Train + Evaluation"
   ]
  },
  {
   "cell_type": "code",
   "execution_count": 33,
   "metadata": {},
   "outputs": [
    {
     "data": {
      "text/html": [
       "<div>\n",
       "<style scoped>\n",
       "    .dataframe tbody tr th:only-of-type {\n",
       "        vertical-align: middle;\n",
       "    }\n",
       "\n",
       "    .dataframe tbody tr th {\n",
       "        vertical-align: top;\n",
       "    }\n",
       "\n",
       "    .dataframe thead th {\n",
       "        text-align: right;\n",
       "    }\n",
       "</style>\n",
       "<table border=\"1\" class=\"dataframe\">\n",
       "  <thead>\n",
       "    <tr style=\"text-align: right;\">\n",
       "      <th></th>\n",
       "      <th>accuracy_score</th>\n",
       "    </tr>\n",
       "  </thead>\n",
       "  <tbody>\n",
       "    <tr>\n",
       "      <th>mandatory_features</th>\n",
       "      <td>0.678423</td>\n",
       "    </tr>\n",
       "  </tbody>\n",
       "</table>\n",
       "</div>"
      ],
      "text/plain": [
       "                    accuracy_score\n",
       "mandatory_features        0.678423"
      ]
     },
     "execution_count": 33,
     "metadata": {},
     "output_type": "execute_result"
    }
   ],
   "source": [
    "# Know the baseline only with the three mandatory features\n",
    "# Store the accuracy score of each evaluation, for comparison\n",
    "\n",
    "df_train_evaluation = pd.DataFrame(columns=['accuracy_score'])\n",
    "\n",
    "df_train_evaluation.loc['mandatory_features'] = train_and_evaluation(X=df_mandatory, y=target_saleprice)\n",
    "df_train_evaluation"
   ]
  },
  {
   "cell_type": "code",
   "execution_count": null,
   "metadata": {},
   "outputs": [],
   "source": []
  },
  {
   "cell_type": "markdown",
   "metadata": {},
   "source": [
    "### C. Optional features and their relation with the target"
   ]
  },
  {
   "cell_type": "markdown",
   "metadata": {},
   "source": [
    "#### C.1. Numerical features"
   ]
  },
  {
   "cell_type": "code",
   "execution_count": 34,
   "metadata": {},
   "outputs": [],
   "source": [
    "# Evaluate features from the selected features collection (in 'df_houses')\n",
    "\n",
    "# Drop target columns, categorical features and features previously processed\n",
    "columns_to_drop = ['target', 'SalePrice', 'SaleType', 'SaleCondition', 'GarageArea', 'LotFrontage', 'LotFrontage_encoded', 'LotFrontage_is_nan']\n",
    "\n",
    "df_houses_optional = df_houses.copy().drop(columns_to_drop, axis=1)"
   ]
  },
  {
   "cell_type": "code",
   "execution_count": 35,
   "metadata": {},
   "outputs": [],
   "source": [
    "# Include 'GarageArea_scaled' (replaces 'GarageArea')\n",
    "df_houses_optional = pd.concat([df_houses_optional, garage_area_scaled], axis=1)"
   ]
  },
  {
   "cell_type": "code",
   "execution_count": 36,
   "metadata": {},
   "outputs": [
    {
     "data": {
      "text/html": [
       "<div>\n",
       "<style scoped>\n",
       "    .dataframe tbody tr th:only-of-type {\n",
       "        vertical-align: middle;\n",
       "    }\n",
       "\n",
       "    .dataframe tbody tr th {\n",
       "        vertical-align: top;\n",
       "    }\n",
       "\n",
       "    .dataframe thead th {\n",
       "        text-align: right;\n",
       "    }\n",
       "</style>\n",
       "<table border=\"1\" class=\"dataframe\">\n",
       "  <thead>\n",
       "    <tr style=\"text-align: right;\">\n",
       "      <th></th>\n",
       "      <th>FullBath</th>\n",
       "      <th>TotRmsAbvGrd</th>\n",
       "      <th>Fireplaces</th>\n",
       "      <th>GarageYrBlt</th>\n",
       "      <th>GarageCars</th>\n",
       "      <th>WoodDeckSF</th>\n",
       "      <th>OpenPorchSF</th>\n",
       "      <th>GarageArea_scaled</th>\n",
       "    </tr>\n",
       "  </thead>\n",
       "  <tbody>\n",
       "    <tr>\n",
       "      <th>0</th>\n",
       "      <td>2</td>\n",
       "      <td>8</td>\n",
       "      <td>0</td>\n",
       "      <td>2003.0</td>\n",
       "      <td>2</td>\n",
       "      <td>0</td>\n",
       "      <td>61</td>\n",
       "      <td>0.954866</td>\n",
       "    </tr>\n",
       "    <tr>\n",
       "      <th>1</th>\n",
       "      <td>2</td>\n",
       "      <td>6</td>\n",
       "      <td>1</td>\n",
       "      <td>1976.0</td>\n",
       "      <td>2</td>\n",
       "      <td>298</td>\n",
       "      <td>0</td>\n",
       "      <td>0.748002</td>\n",
       "    </tr>\n",
       "    <tr>\n",
       "      <th>2</th>\n",
       "      <td>2</td>\n",
       "      <td>6</td>\n",
       "      <td>1</td>\n",
       "      <td>2001.0</td>\n",
       "      <td>2</td>\n",
       "      <td>0</td>\n",
       "      <td>42</td>\n",
       "      <td>1.095910</td>\n",
       "    </tr>\n",
       "  </tbody>\n",
       "</table>\n",
       "</div>"
      ],
      "text/plain": [
       "   FullBath  TotRmsAbvGrd  Fireplaces  GarageYrBlt  GarageCars  WoodDeckSF  \\\n",
       "0         2             8           0       2003.0           2           0   \n",
       "1         2             6           1       1976.0           2         298   \n",
       "2         2             6           1       2001.0           2           0   \n",
       "\n",
       "   OpenPorchSF  GarageArea_scaled  \n",
       "0           61           0.954866  \n",
       "1            0           0.748002  \n",
       "2           42           1.095910  "
      ]
     },
     "execution_count": 36,
     "metadata": {},
     "output_type": "execute_result"
    }
   ],
   "source": [
    "df_houses_optional.head(3)"
   ]
  },
  {
   "cell_type": "markdown",
   "metadata": {},
   "source": [
    "#### C.1.a) Numerical features: Missing values"
   ]
  },
  {
   "cell_type": "code",
   "execution_count": 37,
   "metadata": {},
   "outputs": [
    {
     "data": {
      "text/plain": [
       "GarageYrBlt          81\n",
       "GarageArea_scaled     0\n",
       "OpenPorchSF           0\n",
       "WoodDeckSF            0\n",
       "GarageCars            0\n",
       "Fireplaces            0\n",
       "TotRmsAbvGrd          0\n",
       "FullBath              0\n",
       "dtype: int64"
      ]
     },
     "execution_count": 37,
     "metadata": {},
     "output_type": "execute_result"
    }
   ],
   "source": [
    "df_houses_optional.isna().sum().sort_values(ascending=False)"
   ]
  },
  {
   "cell_type": "markdown",
   "metadata": {},
   "source": [
    "**Handling missing values: 'GarageYrBlt'**"
   ]
  },
  {
   "cell_type": "raw",
   "metadata": {},
   "source": [
    "Only the feature 'GarageYrBlt' has missing values. Therefore, they will be handled following the same strategy used for 'LotFrontage': encoding the missing values with a token, and adding a column marking the entrances with missing values."
   ]
  },
  {
   "cell_type": "code",
   "execution_count": 38,
   "metadata": {},
   "outputs": [
    {
     "data": {
      "text/plain": [
       "NaN       81\n",
       "2005.0    65\n",
       "2006.0    59\n",
       "2004.0    53\n",
       "2003.0    50\n",
       "          ..\n",
       "1906.0     1\n",
       "1927.0     1\n",
       "1900.0     1\n",
       "1908.0     1\n",
       "1933.0     1\n",
       "Name: GarageYrBlt, Length: 98, dtype: int64"
      ]
     },
     "execution_count": 38,
     "metadata": {},
     "output_type": "execute_result"
    }
   ],
   "source": [
    "df_houses_optional.GarageYrBlt.value_counts(dropna=False)"
   ]
  },
  {
   "cell_type": "code",
   "execution_count": 39,
   "metadata": {},
   "outputs": [
    {
     "data": {
      "text/plain": [
       "-1.0       81\n",
       " 2005.0    65\n",
       " 2006.0    59\n",
       " 2004.0    53\n",
       " 2003.0    50\n",
       "           ..\n",
       " 1906.0     1\n",
       " 1927.0     1\n",
       " 1900.0     1\n",
       " 1908.0     1\n",
       " 1933.0     1\n",
       "Name: GarageYrBlt_encoded, Length: 98, dtype: int64"
      ]
     },
     "execution_count": 39,
     "metadata": {},
     "output_type": "execute_result"
    }
   ],
   "source": [
    "# Given the distribution of the feature's values between [1933; 2005],\n",
    "# it is possible to replace the NaN's by the previously defined MISSING_VALUE_TOKEN (-1), creating the column 'GarageYrBlt_encoded'.\n",
    "\n",
    "garage_yrblt_encoded_misses = df_houses_optional.GarageYrBlt.fillna(value=MISSING_VALUE_TOKEN)\n",
    "garage_yrblt_encoded_misses = garage_yrblt_encoded_misses.to_frame()\n",
    "garage_yrblt_encoded_misses.columns = ['GarageYrBlt_encoded']\n",
    "\n",
    "garage_yrblt_encoded_misses.GarageYrBlt_encoded.value_counts(dropna=False)"
   ]
  },
  {
   "cell_type": "code",
   "execution_count": 40,
   "metadata": {},
   "outputs": [
    {
     "data": {
      "text/plain": [
       "False    1379\n",
       "True       81\n",
       "Name: GarageYrBlt_is_nan, dtype: int64"
      ]
     },
     "execution_count": 40,
     "metadata": {},
     "output_type": "execute_result"
    }
   ],
   "source": [
    "# The column 'GarageYrBlt_is_nan' will persist the boolean information on whether the original feature is NaN\n",
    "\n",
    "garage_yrblt_encoded_misses['GarageYrBlt_is_nan'] = False\n",
    "garage_yrblt_encoded_misses.loc[garage_yrblt_encoded_misses.GarageYrBlt_encoded == MISSING_VALUE_TOKEN, 'GarageYrBlt_is_nan'] = True\n",
    "garage_yrblt_encoded_misses.GarageYrBlt_is_nan.value_counts()"
   ]
  },
  {
   "cell_type": "code",
   "execution_count": 41,
   "metadata": {},
   "outputs": [
    {
     "data": {
      "text/html": [
       "<div>\n",
       "<style scoped>\n",
       "    .dataframe tbody tr th:only-of-type {\n",
       "        vertical-align: middle;\n",
       "    }\n",
       "\n",
       "    .dataframe tbody tr th {\n",
       "        vertical-align: top;\n",
       "    }\n",
       "\n",
       "    .dataframe thead th {\n",
       "        text-align: right;\n",
       "    }\n",
       "</style>\n",
       "<table border=\"1\" class=\"dataframe\">\n",
       "  <thead>\n",
       "    <tr style=\"text-align: right;\">\n",
       "      <th></th>\n",
       "      <th>GarageYrBlt_encoded</th>\n",
       "      <th>GarageYrBlt_is_nan</th>\n",
       "    </tr>\n",
       "  </thead>\n",
       "  <tbody>\n",
       "    <tr>\n",
       "      <th>0</th>\n",
       "      <td>2003.0</td>\n",
       "      <td>False</td>\n",
       "    </tr>\n",
       "    <tr>\n",
       "      <th>1</th>\n",
       "      <td>1976.0</td>\n",
       "      <td>False</td>\n",
       "    </tr>\n",
       "  </tbody>\n",
       "</table>\n",
       "</div>"
      ],
      "text/plain": [
       "   GarageYrBlt_encoded  GarageYrBlt_is_nan\n",
       "0               2003.0               False\n",
       "1               1976.0               False"
      ]
     },
     "execution_count": 41,
     "metadata": {},
     "output_type": "execute_result"
    }
   ],
   "source": [
    "garage_yrblt_encoded_misses.head(2)"
   ]
  },
  {
   "cell_type": "markdown",
   "metadata": {},
   "source": [
    "#### C.1.b) Numerical features: Correlation with the target"
   ]
  },
  {
   "cell_type": "code",
   "execution_count": 42,
   "metadata": {},
   "outputs": [
    {
     "data": {
      "text/plain": [
       "FullBath             0.630876\n",
       "TotRmsAbvGrd         0.452032\n",
       "Fireplaces           0.447047\n",
       "GarageYrBlt          0.543583\n",
       "GarageCars           0.593214\n",
       "WoodDeckSF           0.301924\n",
       "OpenPorchSF          0.444712\n",
       "GarageArea_scaled    0.528783\n",
       "dtype: float64"
      ]
     },
     "execution_count": 42,
     "metadata": {},
     "output_type": "execute_result"
    }
   ],
   "source": [
    "# To compute the correlation, we still use the original 'GarageYrBlt' feature\n",
    "\n",
    "houses_optional_corr = df_houses_optional.apply(lambda x: x.corr(target_saleprice, method='spearman'))\n",
    "houses_optional_corr"
   ]
  },
  {
   "cell_type": "code",
   "execution_count": null,
   "metadata": {},
   "outputs": [],
   "source": []
  },
  {
   "cell_type": "markdown",
   "metadata": {},
   "source": [
    "#### C.2. Categorical features"
   ]
  },
  {
   "cell_type": "markdown",
   "metadata": {},
   "source": [
    "#### C.2.a) Categorical features: OHE on 'SaleCondition'"
   ]
  },
  {
   "cell_type": "code",
   "execution_count": 43,
   "metadata": {},
   "outputs": [
    {
     "data": {
      "text/html": [
       "<div>\n",
       "<style scoped>\n",
       "    .dataframe tbody tr th:only-of-type {\n",
       "        vertical-align: middle;\n",
       "    }\n",
       "\n",
       "    .dataframe tbody tr th {\n",
       "        vertical-align: top;\n",
       "    }\n",
       "\n",
       "    .dataframe thead th {\n",
       "        text-align: right;\n",
       "    }\n",
       "</style>\n",
       "<table border=\"1\" class=\"dataframe\">\n",
       "  <thead>\n",
       "    <tr style=\"text-align: right;\">\n",
       "      <th></th>\n",
       "      <th>SaleCondition_Abnorml</th>\n",
       "      <th>SaleCondition_AdjLand</th>\n",
       "      <th>SaleCondition_Alloca</th>\n",
       "      <th>SaleCondition_Family</th>\n",
       "      <th>SaleCondition_Normal</th>\n",
       "      <th>SaleCondition_Partial</th>\n",
       "    </tr>\n",
       "  </thead>\n",
       "  <tbody>\n",
       "    <tr>\n",
       "      <th>0</th>\n",
       "      <td>0</td>\n",
       "      <td>0</td>\n",
       "      <td>0</td>\n",
       "      <td>0</td>\n",
       "      <td>1</td>\n",
       "      <td>0</td>\n",
       "    </tr>\n",
       "  </tbody>\n",
       "</table>\n",
       "</div>"
      ],
      "text/plain": [
       "   SaleCondition_Abnorml  SaleCondition_AdjLand  SaleCondition_Alloca  \\\n",
       "0                      0                      0                     0   \n",
       "\n",
       "   SaleCondition_Family  SaleCondition_Normal  SaleCondition_Partial  \n",
       "0                     0                     1                      0  "
      ]
     },
     "execution_count": 43,
     "metadata": {},
     "output_type": "execute_result"
    }
   ],
   "source": [
    "# Apply OHE to 'SaleCondition', in 'df_categorical', as already performed for 'SaleType'\n",
    "\n",
    "df_sale_condition_ohe = get_ohe_dataframe(df_categorical.SaleCondition, 'SaleCondition_')\n",
    "df_sale_condition_ohe.head(1)"
   ]
  },
  {
   "cell_type": "markdown",
   "metadata": {},
   "source": [
    "#### C.2.b) Categorical features: Correlation with the target"
   ]
  },
  {
   "cell_type": "raw",
   "metadata": {},
   "source": [
    "Given the impossibility to evaluate the correlation of the original categorical features with the target variable (cases of 'SaleType' and 'SaleCondition'), we computed it for the matching OHE columns."
   ]
  },
  {
   "cell_type": "code",
   "execution_count": 44,
   "metadata": {},
   "outputs": [
    {
     "data": {
      "text/plain": [
       "SaleType_New             0.258238\n",
       "SaleCondition_Partial    0.252979\n",
       "SaleType_Con             0.037139\n",
       "SaleType_CWD             0.000144\n",
       "SaleType_ConLw          -0.011564\n",
       "SaleType_ConLI          -0.011564\n",
       "SaleCondition_Alloca    -0.014923\n",
       "SaleType_ConLD          -0.043538\n",
       "SaleType_Oth            -0.045252\n",
       "SaleCondition_Family    -0.046818\n",
       "SaleCondition_AdjLand   -0.052271\n",
       "SaleCondition_Normal    -0.079818\n",
       "SaleType_COD            -0.092700\n",
       "SaleCondition_Abnorml   -0.120716\n",
       "SaleType_WD             -0.148693\n",
       "dtype: float64"
      ]
     },
     "execution_count": 44,
     "metadata": {},
     "output_type": "execute_result"
    }
   ],
   "source": [
    "df_categorical_ohe = pd.concat([df_sale_type_ohe, df_sale_condition_ohe], axis=1)\n",
    "\n",
    "categorical_ohe_corr = df_categorical_ohe.apply(lambda x: x.corr(target_saleprice, method='spearman')).sort_values(ascending=False)\n",
    "categorical_ohe_corr"
   ]
  },
  {
   "cell_type": "raw",
   "metadata": {},
   "source": [
    "Since we will use the OHE column batches together to build possible classificators, we will compute the mean of the absolute value for each batch. The correlations of the other features are all positive, matching their absolute values."
   ]
  },
  {
   "cell_type": "code",
   "execution_count": 45,
   "metadata": {},
   "outputs": [
    {
     "data": {
      "text/plain": [
       "0.07209242149244073"
      ]
     },
     "execution_count": 45,
     "metadata": {},
     "output_type": "execute_result"
    }
   ],
   "source": [
    "# Correlation of 'SaleType' OHE features\n",
    "\n",
    "saletype_corr = categorical_ohe_corr[['SaleType_' in index for index in categorical_ohe_corr.index]]\n",
    "saletype_corr_abs_mean = saletype_corr.abs().mean()\n",
    "saletype_corr_abs_mean"
   ]
  },
  {
   "cell_type": "code",
   "execution_count": 46,
   "metadata": {},
   "outputs": [
    {
     "data": {
      "text/plain": [
       "0.09458754950758079"
      ]
     },
     "execution_count": 46,
     "metadata": {},
     "output_type": "execute_result"
    }
   ],
   "source": [
    "# Correlation of 'SaleCondition' OHE features\n",
    "\n",
    "salecondition_corr = categorical_ohe_corr[['SaleCondition_' in index for index in categorical_ohe_corr.index]]\n",
    "salecondition_corr_abs_mean = salecondition_corr.abs().mean()\n",
    "salecondition_corr_abs_mean"
   ]
  },
  {
   "cell_type": "code",
   "execution_count": null,
   "metadata": {},
   "outputs": [],
   "source": []
  },
  {
   "cell_type": "markdown",
   "metadata": {},
   "source": [
    "#### C.3. Compare the features' correlations"
   ]
  },
  {
   "cell_type": "code",
   "execution_count": 47,
   "metadata": {},
   "outputs": [],
   "source": [
    "houses_optional_corr.loc['SaleType_ohe_mean'] = saletype_corr_abs_mean\n",
    "houses_optional_corr.loc['SaleCondition_ohe_mean'] = salecondition_corr_abs_mean"
   ]
  },
  {
   "cell_type": "code",
   "execution_count": 48,
   "metadata": {},
   "outputs": [
    {
     "data": {
      "text/plain": [
       "FullBath                  0.630876\n",
       "GarageCars                0.593214\n",
       "GarageYrBlt               0.543583\n",
       "GarageArea_scaled         0.528783\n",
       "TotRmsAbvGrd              0.452032\n",
       "Fireplaces                0.447047\n",
       "OpenPorchSF               0.444712\n",
       "WoodDeckSF                0.301924\n",
       "SaleCondition_ohe_mean    0.094588\n",
       "SaleType_ohe_mean         0.072092\n",
       "dtype: float64"
      ]
     },
     "execution_count": 48,
     "metadata": {},
     "output_type": "execute_result"
    }
   ],
   "source": [
    "# Sort correlations from top to bottom\n",
    "\n",
    "houses_optional_corr.sort_values(ascending=False)"
   ]
  },
  {
   "cell_type": "code",
   "execution_count": null,
   "metadata": {},
   "outputs": [],
   "source": []
  },
  {
   "cell_type": "markdown",
   "metadata": {},
   "source": [
    "### D. Iteration #1"
   ]
  },
  {
   "cell_type": "raw",
   "metadata": {},
   "source": [
    "From the set of optional features, the most correlated with the target are 'FullBath', 'GarageCars' and 'GarageYrBlt'. Therefore, we will add the features 'FullBath', 'GarageCars', 'GarageYrBlt_encoded' and 'GarageYrBlt_is_nan' to the analysed dataframe."
   ]
  },
  {
   "cell_type": "code",
   "execution_count": 49,
   "metadata": {},
   "outputs": [
    {
     "data": {
      "text/html": [
       "<div>\n",
       "<style scoped>\n",
       "    .dataframe tbody tr th:only-of-type {\n",
       "        vertical-align: middle;\n",
       "    }\n",
       "\n",
       "    .dataframe tbody tr th {\n",
       "        vertical-align: top;\n",
       "    }\n",
       "\n",
       "    .dataframe thead th {\n",
       "        text-align: right;\n",
       "    }\n",
       "</style>\n",
       "<table border=\"1\" class=\"dataframe\">\n",
       "  <thead>\n",
       "    <tr style=\"text-align: right;\">\n",
       "      <th></th>\n",
       "      <th>YearBuilt</th>\n",
       "      <th>LotFrontage_encoded</th>\n",
       "      <th>LotFrontage_is_nan</th>\n",
       "      <th>MasVnrType_BrkCmn</th>\n",
       "      <th>MasVnrType_BrkFace</th>\n",
       "      <th>MasVnrType_None</th>\n",
       "      <th>MasVnrType_Stone</th>\n",
       "      <th>FullBath</th>\n",
       "      <th>GarageCars</th>\n",
       "      <th>GarageYrBlt_encoded</th>\n",
       "      <th>GarageYrBlt_is_nan</th>\n",
       "    </tr>\n",
       "  </thead>\n",
       "  <tbody>\n",
       "    <tr>\n",
       "      <th>0</th>\n",
       "      <td>2003</td>\n",
       "      <td>65.0</td>\n",
       "      <td>False</td>\n",
       "      <td>0</td>\n",
       "      <td>1</td>\n",
       "      <td>0</td>\n",
       "      <td>0</td>\n",
       "      <td>2</td>\n",
       "      <td>2</td>\n",
       "      <td>2003.0</td>\n",
       "      <td>False</td>\n",
       "    </tr>\n",
       "  </tbody>\n",
       "</table>\n",
       "</div>"
      ],
      "text/plain": [
       "   YearBuilt  LotFrontage_encoded  LotFrontage_is_nan  MasVnrType_BrkCmn  \\\n",
       "0       2003                 65.0               False                  0   \n",
       "\n",
       "   MasVnrType_BrkFace  MasVnrType_None  MasVnrType_Stone  FullBath  \\\n",
       "0                   1                0                 0         2   \n",
       "\n",
       "   GarageCars  GarageYrBlt_encoded  GarageYrBlt_is_nan  \n",
       "0           2               2003.0               False  "
      ]
     },
     "execution_count": 49,
     "metadata": {},
     "output_type": "execute_result"
    }
   ],
   "source": [
    "# Join the dataframe\n",
    "\n",
    "df_iteration_1 = pd.concat([df_mandatory, df_houses_optional.FullBath, df_houses_optional.GarageCars, garage_yrblt_encoded_misses], axis=1)\n",
    "df_iteration_1.head(1)"
   ]
  },
  {
   "cell_type": "markdown",
   "metadata": {},
   "source": [
    "#### D.1. Train + Evaluation"
   ]
  },
  {
   "cell_type": "code",
   "execution_count": 50,
   "metadata": {},
   "outputs": [
    {
     "data": {
      "text/html": [
       "<div>\n",
       "<style scoped>\n",
       "    .dataframe tbody tr th:only-of-type {\n",
       "        vertical-align: middle;\n",
       "    }\n",
       "\n",
       "    .dataframe tbody tr th {\n",
       "        vertical-align: top;\n",
       "    }\n",
       "\n",
       "    .dataframe thead th {\n",
       "        text-align: right;\n",
       "    }\n",
       "</style>\n",
       "<table border=\"1\" class=\"dataframe\">\n",
       "  <thead>\n",
       "    <tr style=\"text-align: right;\">\n",
       "      <th></th>\n",
       "      <th>accuracy_score</th>\n",
       "    </tr>\n",
       "  </thead>\n",
       "  <tbody>\n",
       "    <tr>\n",
       "      <th>mandatory_features</th>\n",
       "      <td>0.678423</td>\n",
       "    </tr>\n",
       "    <tr>\n",
       "      <th>iteration_1</th>\n",
       "      <td>0.825726</td>\n",
       "    </tr>\n",
       "  </tbody>\n",
       "</table>\n",
       "</div>"
      ],
      "text/plain": [
       "                    accuracy_score\n",
       "mandatory_features        0.678423\n",
       "iteration_1               0.825726"
      ]
     },
     "execution_count": 50,
     "metadata": {},
     "output_type": "execute_result"
    }
   ],
   "source": [
    "df_train_evaluation.loc['iteration_1'] = train_and_evaluation(X=df_iteration_1, y=target_saleprice)\n",
    "df_train_evaluation"
   ]
  },
  {
   "cell_type": "raw",
   "metadata": {},
   "source": [
    "The addition of these optional features increased our score by approximatelly 15%, which is a great improvement."
   ]
  },
  {
   "cell_type": "raw",
   "metadata": {},
   "source": [
    "To ensure that the addition of these three features effectively improve the model, we will also compare it with the addition of: only 'FullBath', only 'GarageCars' and only 'GarageYrBlt' related."
   ]
  },
  {
   "cell_type": "code",
   "execution_count": 51,
   "metadata": {},
   "outputs": [
    {
     "name": "stdout",
     "output_type": "stream",
     "text": [
      "Mandatory features and 'FullBath'\n"
     ]
    },
    {
     "data": {
      "text/plain": [
       "0.7925311203319502"
      ]
     },
     "execution_count": 51,
     "metadata": {},
     "output_type": "execute_result"
    }
   ],
   "source": [
    "print(\"Mandatory features and 'FullBath'\")\n",
    "train_and_evaluation(X=pd.concat([df_mandatory, df_houses_optional.FullBath], axis=1), y=target_saleprice)"
   ]
  },
  {
   "cell_type": "code",
   "execution_count": 52,
   "metadata": {},
   "outputs": [
    {
     "name": "stdout",
     "output_type": "stream",
     "text": [
      "Mandatory features and 'GarageCars'\n"
     ]
    },
    {
     "data": {
      "text/plain": [
       "0.7468879668049793"
      ]
     },
     "execution_count": 52,
     "metadata": {},
     "output_type": "execute_result"
    }
   ],
   "source": [
    "print(\"Mandatory features and 'GarageCars'\")\n",
    "train_and_evaluation(X=pd.concat([df_mandatory, df_houses_optional.GarageCars], axis=1), y=target_saleprice)"
   ]
  },
  {
   "cell_type": "code",
   "execution_count": 53,
   "metadata": {},
   "outputs": [
    {
     "name": "stdout",
     "output_type": "stream",
     "text": [
      "Mandatory features and 'GarageYrBlt' related\n"
     ]
    },
    {
     "data": {
      "text/plain": [
       "0.6887966804979253"
      ]
     },
     "execution_count": 53,
     "metadata": {},
     "output_type": "execute_result"
    }
   ],
   "source": [
    "print(\"Mandatory features and 'GarageYrBlt' related\")\n",
    "train_and_evaluation(X=pd.concat([df_mandatory, garage_yrblt_encoded_misses], axis=1), y=target_saleprice)"
   ]
  },
  {
   "cell_type": "raw",
   "metadata": {},
   "source": [
    "The accuracy achieved with the three features is in fact better than the accuracy with each of them separately. We can also observe that, using the features independently, when the feature is more correlated with the target, the accuracy of the model is higher."
   ]
  },
  {
   "cell_type": "code",
   "execution_count": null,
   "metadata": {},
   "outputs": [],
   "source": []
  },
  {
   "cell_type": "markdown",
   "metadata": {},
   "source": [
    "### E. Iteration #2"
   ]
  },
  {
   "cell_type": "raw",
   "metadata": {},
   "source": [
    "Since the correlation of 'GarageArea_scaled' with the target is close from the correlation of 'GarageYrBlt', and this feature does not have missing values, we will exchange the features 'GarageYrBlt_encoded' and 'GarageYrBlt_is_nan' by the feature 'GarageArea_scaled'."
   ]
  },
  {
   "cell_type": "code",
   "execution_count": 54,
   "metadata": {},
   "outputs": [
    {
     "data": {
      "text/html": [
       "<div>\n",
       "<style scoped>\n",
       "    .dataframe tbody tr th:only-of-type {\n",
       "        vertical-align: middle;\n",
       "    }\n",
       "\n",
       "    .dataframe tbody tr th {\n",
       "        vertical-align: top;\n",
       "    }\n",
       "\n",
       "    .dataframe thead th {\n",
       "        text-align: right;\n",
       "    }\n",
       "</style>\n",
       "<table border=\"1\" class=\"dataframe\">\n",
       "  <thead>\n",
       "    <tr style=\"text-align: right;\">\n",
       "      <th></th>\n",
       "      <th>YearBuilt</th>\n",
       "      <th>LotFrontage_encoded</th>\n",
       "      <th>LotFrontage_is_nan</th>\n",
       "      <th>MasVnrType_BrkCmn</th>\n",
       "      <th>MasVnrType_BrkFace</th>\n",
       "      <th>MasVnrType_None</th>\n",
       "      <th>MasVnrType_Stone</th>\n",
       "      <th>FullBath</th>\n",
       "      <th>GarageCars</th>\n",
       "      <th>GarageArea_scaled</th>\n",
       "    </tr>\n",
       "  </thead>\n",
       "  <tbody>\n",
       "    <tr>\n",
       "      <th>0</th>\n",
       "      <td>2003</td>\n",
       "      <td>65.0</td>\n",
       "      <td>False</td>\n",
       "      <td>0</td>\n",
       "      <td>1</td>\n",
       "      <td>0</td>\n",
       "      <td>0</td>\n",
       "      <td>2</td>\n",
       "      <td>2</td>\n",
       "      <td>0.954866</td>\n",
       "    </tr>\n",
       "  </tbody>\n",
       "</table>\n",
       "</div>"
      ],
      "text/plain": [
       "   YearBuilt  LotFrontage_encoded  LotFrontage_is_nan  MasVnrType_BrkCmn  \\\n",
       "0       2003                 65.0               False                  0   \n",
       "\n",
       "   MasVnrType_BrkFace  MasVnrType_None  MasVnrType_Stone  FullBath  \\\n",
       "0                   1                0                 0         2   \n",
       "\n",
       "   GarageCars  GarageArea_scaled  \n",
       "0           2           0.954866  "
      ]
     },
     "execution_count": 54,
     "metadata": {},
     "output_type": "execute_result"
    }
   ],
   "source": [
    "# Join the dataframe\n",
    "\n",
    "df_iteration_2 = pd.concat([df_mandatory, df_houses_optional.FullBath, df_houses_optional.GarageCars, df_houses_optional.GarageArea_scaled], axis=1)\n",
    "df_iteration_2.head(1)"
   ]
  },
  {
   "cell_type": "markdown",
   "metadata": {},
   "source": [
    "#### E.1. Train + Evaluation"
   ]
  },
  {
   "cell_type": "code",
   "execution_count": 55,
   "metadata": {},
   "outputs": [
    {
     "data": {
      "text/html": [
       "<div>\n",
       "<style scoped>\n",
       "    .dataframe tbody tr th:only-of-type {\n",
       "        vertical-align: middle;\n",
       "    }\n",
       "\n",
       "    .dataframe tbody tr th {\n",
       "        vertical-align: top;\n",
       "    }\n",
       "\n",
       "    .dataframe thead th {\n",
       "        text-align: right;\n",
       "    }\n",
       "</style>\n",
       "<table border=\"1\" class=\"dataframe\">\n",
       "  <thead>\n",
       "    <tr style=\"text-align: right;\">\n",
       "      <th></th>\n",
       "      <th>accuracy_score</th>\n",
       "    </tr>\n",
       "  </thead>\n",
       "  <tbody>\n",
       "    <tr>\n",
       "      <th>mandatory_features</th>\n",
       "      <td>0.678423</td>\n",
       "    </tr>\n",
       "    <tr>\n",
       "      <th>iteration_1</th>\n",
       "      <td>0.825726</td>\n",
       "    </tr>\n",
       "    <tr>\n",
       "      <th>iteration_2</th>\n",
       "      <td>0.825726</td>\n",
       "    </tr>\n",
       "  </tbody>\n",
       "</table>\n",
       "</div>"
      ],
      "text/plain": [
       "                    accuracy_score\n",
       "mandatory_features        0.678423\n",
       "iteration_1               0.825726\n",
       "iteration_2               0.825726"
      ]
     },
     "execution_count": 55,
     "metadata": {},
     "output_type": "execute_result"
    }
   ],
   "source": [
    "df_train_evaluation.loc['iteration_2'] = train_and_evaluation(X=df_iteration_2, y=target_saleprice)\n",
    "df_train_evaluation"
   ]
  },
  {
   "cell_type": "raw",
   "metadata": {},
   "source": [
    "Interestingly, changing this feature did not influence the accuracy score. This may be due to: the other features explaining most of the variability; the features 'GarageYrBlt' and 'GarageArea_scaled' correlating with the target at similar amounts, and possibly being related between each other."
   ]
  },
  {
   "cell_type": "markdown",
   "metadata": {},
   "source": [
    "#### E.2 Experiment with mandatory features + 'FullBath' + 'GarageCars'"
   ]
  },
  {
   "cell_type": "raw",
   "metadata": {},
   "source": [
    "Given that exchanging between 'GarageYrBlt' related columns and 'GarageArea_scaled' did not produce effects on the accuracy, we will evaluate a model without both features, for comparison."
   ]
  },
  {
   "cell_type": "code",
   "execution_count": 56,
   "metadata": {},
   "outputs": [
    {
     "data": {
      "text/html": [
       "<div>\n",
       "<style scoped>\n",
       "    .dataframe tbody tr th:only-of-type {\n",
       "        vertical-align: middle;\n",
       "    }\n",
       "\n",
       "    .dataframe tbody tr th {\n",
       "        vertical-align: top;\n",
       "    }\n",
       "\n",
       "    .dataframe thead th {\n",
       "        text-align: right;\n",
       "    }\n",
       "</style>\n",
       "<table border=\"1\" class=\"dataframe\">\n",
       "  <thead>\n",
       "    <tr style=\"text-align: right;\">\n",
       "      <th></th>\n",
       "      <th>YearBuilt</th>\n",
       "      <th>LotFrontage_encoded</th>\n",
       "      <th>LotFrontage_is_nan</th>\n",
       "      <th>MasVnrType_BrkCmn</th>\n",
       "      <th>MasVnrType_BrkFace</th>\n",
       "      <th>MasVnrType_None</th>\n",
       "      <th>MasVnrType_Stone</th>\n",
       "      <th>FullBath</th>\n",
       "      <th>GarageCars</th>\n",
       "    </tr>\n",
       "  </thead>\n",
       "  <tbody>\n",
       "    <tr>\n",
       "      <th>0</th>\n",
       "      <td>2003</td>\n",
       "      <td>65.0</td>\n",
       "      <td>False</td>\n",
       "      <td>0</td>\n",
       "      <td>1</td>\n",
       "      <td>0</td>\n",
       "      <td>0</td>\n",
       "      <td>2</td>\n",
       "      <td>2</td>\n",
       "    </tr>\n",
       "  </tbody>\n",
       "</table>\n",
       "</div>"
      ],
      "text/plain": [
       "   YearBuilt  LotFrontage_encoded  LotFrontage_is_nan  MasVnrType_BrkCmn  \\\n",
       "0       2003                 65.0               False                  0   \n",
       "\n",
       "   MasVnrType_BrkFace  MasVnrType_None  MasVnrType_Stone  FullBath  GarageCars  \n",
       "0                   1                0                 0         2           2  "
      ]
     },
     "execution_count": 56,
     "metadata": {},
     "output_type": "execute_result"
    }
   ],
   "source": [
    "# Join the dataframe\n",
    "\n",
    "df_mandatory_fullbath_garagecars = pd.concat([df_mandatory, df_houses_optional.FullBath, df_houses_optional.GarageCars], axis=1)\n",
    "df_mandatory_fullbath_garagecars.head(1)"
   ]
  },
  {
   "cell_type": "code",
   "execution_count": 57,
   "metadata": {},
   "outputs": [
    {
     "name": "stdout",
     "output_type": "stream",
     "text": [
      "Mandatory features + 'FullBath' + 'GarageCars'\n"
     ]
    },
    {
     "data": {
      "text/plain": [
       "0.8257261410788381"
      ]
     },
     "execution_count": 57,
     "metadata": {},
     "output_type": "execute_result"
    }
   ],
   "source": [
    "# Train, Test\n",
    "\n",
    "print(\"Mandatory features + 'FullBath' + 'GarageCars'\")\n",
    "train_and_evaluation(X=df_mandatory_fullbath_garagecars, y=target_saleprice)"
   ]
  },
  {
   "cell_type": "raw",
   "metadata": {},
   "source": [
    "This experience proves that the features related with 'GarageYrBlt' and 'GarageArea' are not influencing the model's accuracy, with their current form."
   ]
  },
  {
   "cell_type": "code",
   "execution_count": null,
   "metadata": {},
   "outputs": [],
   "source": []
  },
  {
   "cell_type": "markdown",
   "metadata": {},
   "source": [
    "### F. Iteration #3"
   ]
  },
  {
   "cell_type": "raw",
   "metadata": {},
   "source": [
    "We will take the set 'df_iteration_2' as base for this iteration."
   ]
  },
  {
   "cell_type": "code",
   "execution_count": 58,
   "metadata": {},
   "outputs": [
    {
     "data": {
      "text/html": [
       "<div>\n",
       "<style scoped>\n",
       "    .dataframe tbody tr th:only-of-type {\n",
       "        vertical-align: middle;\n",
       "    }\n",
       "\n",
       "    .dataframe tbody tr th {\n",
       "        vertical-align: top;\n",
       "    }\n",
       "\n",
       "    .dataframe thead th {\n",
       "        text-align: right;\n",
       "    }\n",
       "</style>\n",
       "<table border=\"1\" class=\"dataframe\">\n",
       "  <thead>\n",
       "    <tr style=\"text-align: right;\">\n",
       "      <th></th>\n",
       "      <th>YearBuilt</th>\n",
       "      <th>LotFrontage_encoded</th>\n",
       "      <th>FullBath</th>\n",
       "      <th>GarageCars</th>\n",
       "      <th>GarageArea_scaled</th>\n",
       "    </tr>\n",
       "  </thead>\n",
       "  <tbody>\n",
       "    <tr>\n",
       "      <th>count</th>\n",
       "      <td>1460.000000</td>\n",
       "      <td>1460.000000</td>\n",
       "      <td>1460.000000</td>\n",
       "      <td>1460.000000</td>\n",
       "      <td>1460.000000</td>\n",
       "    </tr>\n",
       "    <tr>\n",
       "      <th>mean</th>\n",
       "      <td>1971.267808</td>\n",
       "      <td>57.445890</td>\n",
       "      <td>1.565068</td>\n",
       "      <td>1.767123</td>\n",
       "      <td>0.778515</td>\n",
       "    </tr>\n",
       "    <tr>\n",
       "      <th>std</th>\n",
       "      <td>30.202904</td>\n",
       "      <td>34.960241</td>\n",
       "      <td>0.550916</td>\n",
       "      <td>0.747315</td>\n",
       "      <td>0.502597</td>\n",
       "    </tr>\n",
       "    <tr>\n",
       "      <th>min</th>\n",
       "      <td>1872.000000</td>\n",
       "      <td>-1.000000</td>\n",
       "      <td>0.000000</td>\n",
       "      <td>0.000000</td>\n",
       "      <td>-0.333333</td>\n",
       "    </tr>\n",
       "    <tr>\n",
       "      <th>25%</th>\n",
       "      <td>1954.000000</td>\n",
       "      <td>42.000000</td>\n",
       "      <td>1.000000</td>\n",
       "      <td>1.000000</td>\n",
       "      <td>0.452985</td>\n",
       "    </tr>\n",
       "    <tr>\n",
       "      <th>50%</th>\n",
       "      <td>1973.000000</td>\n",
       "      <td>63.000000</td>\n",
       "      <td>2.000000</td>\n",
       "      <td>2.000000</td>\n",
       "      <td>0.795016</td>\n",
       "    </tr>\n",
       "    <tr>\n",
       "      <th>75%</th>\n",
       "      <td>2000.000000</td>\n",
       "      <td>79.000000</td>\n",
       "      <td>2.000000</td>\n",
       "      <td>2.000000</td>\n",
       "      <td>1.020686</td>\n",
       "    </tr>\n",
       "    <tr>\n",
       "      <th>max</th>\n",
       "      <td>2010.000000</td>\n",
       "      <td>313.000000</td>\n",
       "      <td>3.000000</td>\n",
       "      <td>4.000000</td>\n",
       "      <td>3.000000</td>\n",
       "    </tr>\n",
       "  </tbody>\n",
       "</table>\n",
       "</div>"
      ],
      "text/plain": [
       "         YearBuilt  LotFrontage_encoded     FullBath   GarageCars  \\\n",
       "count  1460.000000          1460.000000  1460.000000  1460.000000   \n",
       "mean   1971.267808            57.445890     1.565068     1.767123   \n",
       "std      30.202904            34.960241     0.550916     0.747315   \n",
       "min    1872.000000            -1.000000     0.000000     0.000000   \n",
       "25%    1954.000000            42.000000     1.000000     1.000000   \n",
       "50%    1973.000000            63.000000     2.000000     2.000000   \n",
       "75%    2000.000000            79.000000     2.000000     2.000000   \n",
       "max    2010.000000           313.000000     3.000000     4.000000   \n",
       "\n",
       "       GarageArea_scaled  \n",
       "count        1460.000000  \n",
       "mean            0.778515  \n",
       "std             0.502597  \n",
       "min            -0.333333  \n",
       "25%             0.452985  \n",
       "50%             0.795016  \n",
       "75%             1.020686  \n",
       "max             3.000000  "
      ]
     },
     "execution_count": 58,
     "metadata": {},
     "output_type": "execute_result"
    }
   ],
   "source": [
    "# Describe non-binary columns\n",
    "df_iteration_2[['YearBuilt', 'LotFrontage_encoded', 'FullBath', 'GarageCars', 'GarageArea_scaled']].describe()"
   ]
  },
  {
   "cell_type": "markdown",
   "metadata": {},
   "source": [
    "#### F.1. Binning 'YearBuilt' and 'LotFrontage_encoding'"
   ]
  },
  {
   "cell_type": "raw",
   "metadata": {},
   "source": [
    "As seen above, the variables 'YearBuilt' and 'LotFrontage_encoded' have many different and distant values. Because of this, we will apply a binning strategy to each of them.\n",
    "\n",
    "Note: In the case of 'LotFrontage_encoded', since there are several missing values represented by the token '-1', we will not bin these values."
   ]
  },
  {
   "cell_type": "markdown",
   "metadata": {},
   "source": [
    "**'YearBuilt'**"
   ]
  },
  {
   "cell_type": "code",
   "execution_count": 59,
   "metadata": {},
   "outputs": [
    {
     "data": {
      "image/png": "[encoded data removed]",
      "text/plain": [
       "<Figure size 1440x576 with 4 Axes>"
      ]
     },
     "metadata": {
      "needs_background": "light"
     },
     "output_type": "display_data"
    }
   ],
   "source": [
    "# Visualize different histograms of the 'YearBuilt' variable\n",
    "\n",
    "plt.figure(figsize=(20, 8)).suptitle('YearBuilt')\n",
    "\n",
    "plt.subplot(2, 2, 1)\n",
    "plt.title('3 bins')\n",
    "(_, bin_bounds_3, _) = plt.hist(df_iteration_2.YearBuilt, 3)\n",
    "plt.ylabel('Frequency Count (absolute)')\n",
    "plt.grid()\n",
    "\n",
    "plt.subplot(2, 2, 2)\n",
    "(_, bin_bounds_5, _) = plt.hist(df_iteration_2.YearBuilt, 5)\n",
    "plt.title('5 bins')\n",
    "plt.grid()\n",
    "\n",
    "plt.subplot(2, 2, 3)\n",
    "plt.title('7 bins')\n",
    "(_, bin_bounds_7, _) = plt.hist(df_iteration_2.YearBuilt, 7)\n",
    "plt.ylabel('Frequency Count (absolute)')\n",
    "plt.grid()\n",
    "\n",
    "plt.subplot(2, 2, 4)\n",
    "plt.title('10 bins')\n",
    "(_, bin_bounds_10, _) = plt.hist(df_iteration_2.YearBuilt, 10)\n",
    "plt.grid()\n",
    "\n",
    "plt.show()"
   ]
  },
  {
   "cell_type": "code",
   "execution_count": 60,
   "metadata": {},
   "outputs": [
    {
     "data": {
      "text/html": [
       "<div>\n",
       "<style scoped>\n",
       "    .dataframe tbody tr th:only-of-type {\n",
       "        vertical-align: middle;\n",
       "    }\n",
       "\n",
       "    .dataframe tbody tr th {\n",
       "        vertical-align: top;\n",
       "    }\n",
       "\n",
       "    .dataframe thead th {\n",
       "        text-align: right;\n",
       "    }\n",
       "</style>\n",
       "<table border=\"1\" class=\"dataframe\">\n",
       "  <thead>\n",
       "    <tr style=\"text-align: right;\">\n",
       "      <th></th>\n",
       "      <th>YearBuilt</th>\n",
       "      <th>YearBuilt_bin_bound</th>\n",
       "    </tr>\n",
       "  </thead>\n",
       "  <tbody>\n",
       "    <tr>\n",
       "      <th>0</th>\n",
       "      <td>2003</td>\n",
       "      <td>(1990.2857142857142, 2010.0]</td>\n",
       "    </tr>\n",
       "    <tr>\n",
       "      <th>1</th>\n",
       "      <td>1976</td>\n",
       "      <td>(1970.5714285714287, 1990.2857142857142]</td>\n",
       "    </tr>\n",
       "    <tr>\n",
       "      <th>2</th>\n",
       "      <td>2001</td>\n",
       "      <td>(1990.2857142857142, 2010.0]</td>\n",
       "    </tr>\n",
       "    <tr>\n",
       "      <th>3</th>\n",
       "      <td>1915</td>\n",
       "      <td>(1911.4285714285713, 1931.142857142857]</td>\n",
       "    </tr>\n",
       "    <tr>\n",
       "      <th>4</th>\n",
       "      <td>2000</td>\n",
       "      <td>(1990.2857142857142, 2010.0]</td>\n",
       "    </tr>\n",
       "  </tbody>\n",
       "</table>\n",
       "</div>"
      ],
      "text/plain": [
       "   YearBuilt                       YearBuilt_bin_bound\n",
       "0       2003              (1990.2857142857142, 2010.0]\n",
       "1       1976  (1970.5714285714287, 1990.2857142857142]\n",
       "2       2001              (1990.2857142857142, 2010.0]\n",
       "3       1915   (1911.4285714285713, 1931.142857142857]\n",
       "4       2000              (1990.2857142857142, 2010.0]"
      ]
     },
     "execution_count": 60,
     "metadata": {},
     "output_type": "execute_result"
    }
   ],
   "source": [
    "# We will take some of the '7 bins' boundaries to create 6 custom bins\n",
    "\n",
    "yearbuilt_bin_bounds = pd.IntervalIndex.from_tuples([\n",
    "    (df_iteration_2.YearBuilt.min()-1, bin_bounds_7[2]),\n",
    "    (bin_bounds_7[2], bin_bounds_7[3]),\n",
    "    (bin_bounds_7[3], bin_bounds_7[4]),\n",
    "    (bin_bounds_7[4], bin_bounds_7[5]),\n",
    "    (bin_bounds_7[5], bin_bounds_7[6]),\n",
    "    (bin_bounds_7[6], df_iteration_2.YearBuilt.max())])\n",
    "\n",
    "df_yearbuilt_bin = pd.concat([df_iteration_2.YearBuilt, pd.cut(df_iteration_2.YearBuilt, yearbuilt_bin_bounds)], axis=1)\n",
    "df_yearbuilt_bin.columns = ['YearBuilt', 'YearBuilt_bin_bound']\n",
    "df_yearbuilt_bin.head()"
   ]
  },
  {
   "cell_type": "code",
   "execution_count": 61,
   "metadata": {},
   "outputs": [
    {
     "data": {
      "text/html": [
       "<div>\n",
       "<style scoped>\n",
       "    .dataframe tbody tr th:only-of-type {\n",
       "        vertical-align: middle;\n",
       "    }\n",
       "\n",
       "    .dataframe tbody tr th {\n",
       "        vertical-align: top;\n",
       "    }\n",
       "\n",
       "    .dataframe thead th {\n",
       "        text-align: right;\n",
       "    }\n",
       "</style>\n",
       "<table border=\"1\" class=\"dataframe\">\n",
       "  <thead>\n",
       "    <tr style=\"text-align: right;\">\n",
       "      <th></th>\n",
       "      <th>YearBuilt</th>\n",
       "      <th>YearBuilt_bin_bound</th>\n",
       "      <th>YearBuilt_bin</th>\n",
       "    </tr>\n",
       "  </thead>\n",
       "  <tbody>\n",
       "    <tr>\n",
       "      <th>0</th>\n",
       "      <td>2003</td>\n",
       "      <td>(1990.2857142857142, 2010.0]</td>\n",
       "      <td>2004.0</td>\n",
       "    </tr>\n",
       "    <tr>\n",
       "      <th>1</th>\n",
       "      <td>1976</td>\n",
       "      <td>(1970.5714285714287, 1990.2857142857142]</td>\n",
       "      <td>1977.0</td>\n",
       "    </tr>\n",
       "    <tr>\n",
       "      <th>2</th>\n",
       "      <td>2001</td>\n",
       "      <td>(1990.2857142857142, 2010.0]</td>\n",
       "      <td>2004.0</td>\n",
       "    </tr>\n",
       "    <tr>\n",
       "      <th>3</th>\n",
       "      <td>1915</td>\n",
       "      <td>(1911.4285714285713, 1931.142857142857]</td>\n",
       "      <td>1921.5</td>\n",
       "    </tr>\n",
       "    <tr>\n",
       "      <th>4</th>\n",
       "      <td>2000</td>\n",
       "      <td>(1990.2857142857142, 2010.0]</td>\n",
       "      <td>2004.0</td>\n",
       "    </tr>\n",
       "  </tbody>\n",
       "</table>\n",
       "</div>"
      ],
      "text/plain": [
       "   YearBuilt                       YearBuilt_bin_bound  YearBuilt_bin\n",
       "0       2003              (1990.2857142857142, 2010.0]         2004.0\n",
       "1       1976  (1970.5714285714287, 1990.2857142857142]         1977.0\n",
       "2       2001              (1990.2857142857142, 2010.0]         2004.0\n",
       "3       1915   (1911.4285714285713, 1931.142857142857]         1921.5\n",
       "4       2000              (1990.2857142857142, 2010.0]         2004.0"
      ]
     },
     "execution_count": 61,
     "metadata": {},
     "output_type": "execute_result"
    }
   ],
   "source": [
    "# Replace each bin label by the bin median\n",
    "\n",
    "for bin_bound in yearbuilt_bin_bounds:\n",
    "    condition = (df_yearbuilt_bin.YearBuilt_bin_bound == bin_bound)\n",
    "    df_yearbuilt_bin.loc[condition, 'YearBuilt_bin'] = df_yearbuilt_bin[condition].YearBuilt.median()\n",
    "\n",
    "# The value for each bin is placed in the column 'YearBuilt_bin'    \n",
    "\n",
    "df_yearbuilt_bin.head()"
   ]
  },
  {
   "cell_type": "markdown",
   "metadata": {},
   "source": [
    "**'LotFrontage_encoded'**"
   ]
  },
  {
   "cell_type": "code",
   "execution_count": 62,
   "metadata": {},
   "outputs": [
    {
     "data": {
      "image/png": "[encoded data removed]",
      "text/plain": [
       "<Figure size 1440x576 with 4 Axes>"
      ]
     },
     "metadata": {
      "needs_background": "light"
     },
     "output_type": "display_data"
    }
   ],
   "source": [
    "# Visualize different histograms of the 'LotFrontage_encoded' variable, excluding the missing value token\n",
    "\n",
    "lotfrontage_filled = df_iteration_2.LotFrontage_encoded[df_iteration_2.LotFrontage_encoded > -1]\n",
    "\n",
    "plt.figure(figsize=(20, 8)).suptitle('LotFrontage without missing values')\n",
    "\n",
    "plt.subplot(2, 2, 1)\n",
    "plt.title('3 bins')\n",
    "(_, bin_bounds_3, _) = plt.hist(lotfrontage_filled, 3)\n",
    "plt.ylabel('Frequency Count (absolute)')\n",
    "plt.grid()\n",
    "\n",
    "plt.subplot(2, 2, 2)\n",
    "(_, bin_bounds_5, _) = plt.hist(lotfrontage_filled, 5)\n",
    "plt.title('5 bins')\n",
    "plt.grid()\n",
    "\n",
    "plt.subplot(2, 2, 3)\n",
    "plt.title('7 bins')\n",
    "(_, bin_bounds_7, _) = plt.hist(lotfrontage_filled, 7)\n",
    "plt.ylabel('Frequency Count (absolute)')\n",
    "plt.grid()\n",
    "\n",
    "plt.subplot(2, 2, 4)\n",
    "plt.title('10 bins')\n",
    "(_, bin_bounds_10, _) = plt.hist(lotfrontage_filled, 10)\n",
    "plt.grid()\n",
    "\n",
    "plt.show()"
   ]
  },
  {
   "cell_type": "code",
   "execution_count": 63,
   "metadata": {},
   "outputs": [
    {
     "data": {
      "text/html": [
       "<div>\n",
       "<style scoped>\n",
       "    .dataframe tbody tr th:only-of-type {\n",
       "        vertical-align: middle;\n",
       "    }\n",
       "\n",
       "    .dataframe tbody tr th {\n",
       "        vertical-align: top;\n",
       "    }\n",
       "\n",
       "    .dataframe thead th {\n",
       "        text-align: right;\n",
       "    }\n",
       "</style>\n",
       "<table border=\"1\" class=\"dataframe\">\n",
       "  <thead>\n",
       "    <tr style=\"text-align: right;\">\n",
       "      <th></th>\n",
       "      <th>LotFrontage_encoded</th>\n",
       "      <th>LotFrontage_encoded_bin_bound</th>\n",
       "    </tr>\n",
       "  </thead>\n",
       "  <tbody>\n",
       "    <tr>\n",
       "      <th>0</th>\n",
       "      <td>65.0</td>\n",
       "      <td>(50.2, 79.4]</td>\n",
       "    </tr>\n",
       "    <tr>\n",
       "      <th>1</th>\n",
       "      <td>80.0</td>\n",
       "      <td>(79.4, 108.6]</td>\n",
       "    </tr>\n",
       "    <tr>\n",
       "      <th>2</th>\n",
       "      <td>68.0</td>\n",
       "      <td>(50.2, 79.4]</td>\n",
       "    </tr>\n",
       "    <tr>\n",
       "      <th>3</th>\n",
       "      <td>60.0</td>\n",
       "      <td>(50.2, 79.4]</td>\n",
       "    </tr>\n",
       "    <tr>\n",
       "      <th>4</th>\n",
       "      <td>84.0</td>\n",
       "      <td>(79.4, 108.6]</td>\n",
       "    </tr>\n",
       "  </tbody>\n",
       "</table>\n",
       "</div>"
      ],
      "text/plain": [
       "   LotFrontage_encoded LotFrontage_encoded_bin_bound\n",
       "0                 65.0                  (50.2, 79.4]\n",
       "1                 80.0                 (79.4, 108.6]\n",
       "2                 68.0                  (50.2, 79.4]\n",
       "3                 60.0                  (50.2, 79.4]\n",
       "4                 84.0                 (79.4, 108.6]"
      ]
     },
     "execution_count": 63,
     "metadata": {},
     "output_type": "execute_result"
    }
   ],
   "source": [
    "# We will take some of the '10 bins' boundaries, plus an exclusive boundary for missing values, and create 5 custom bins\n",
    "\n",
    "lotfrontage_bin_bounds = pd.IntervalIndex.from_tuples([\n",
    "    (df_iteration_2.LotFrontage_encoded.min()-1, df_iteration_2.LotFrontage_encoded.min()),\n",
    "    (bin_bounds_10[0]-1, bin_bounds_10[1]),\n",
    "    (bin_bounds_10[1], bin_bounds_10[2]),\n",
    "    (bin_bounds_10[2], bin_bounds_10[3]),\n",
    "    (bin_bounds_10[3], df_iteration_2.LotFrontage_encoded.max())])\n",
    "\n",
    "df_lotfrontage_bin = pd.concat([df_iteration_2.LotFrontage_encoded, pd.cut(df_iteration_2.LotFrontage_encoded, lotfrontage_bin_bounds)], axis=1)\n",
    "df_lotfrontage_bin.columns = ['LotFrontage_encoded', 'LotFrontage_encoded_bin_bound']\n",
    "df_lotfrontage_bin.head()"
   ]
  },
  {
   "cell_type": "code",
   "execution_count": 64,
   "metadata": {},
   "outputs": [
    {
     "data": {
      "text/html": [
       "<div>\n",
       "<style scoped>\n",
       "    .dataframe tbody tr th:only-of-type {\n",
       "        vertical-align: middle;\n",
       "    }\n",
       "\n",
       "    .dataframe tbody tr th {\n",
       "        vertical-align: top;\n",
       "    }\n",
       "\n",
       "    .dataframe thead th {\n",
       "        text-align: right;\n",
       "    }\n",
       "</style>\n",
       "<table border=\"1\" class=\"dataframe\">\n",
       "  <thead>\n",
       "    <tr style=\"text-align: right;\">\n",
       "      <th></th>\n",
       "      <th>LotFrontage_encoded</th>\n",
       "      <th>LotFrontage_encoded_bin_bound</th>\n",
       "      <th>LotFrontage_encoded_bin</th>\n",
       "    </tr>\n",
       "  </thead>\n",
       "  <tbody>\n",
       "    <tr>\n",
       "      <th>0</th>\n",
       "      <td>65.0</td>\n",
       "      <td>(50.2, 79.4]</td>\n",
       "      <td>65.0</td>\n",
       "    </tr>\n",
       "    <tr>\n",
       "      <th>1</th>\n",
       "      <td>80.0</td>\n",
       "      <td>(79.4, 108.6]</td>\n",
       "      <td>86.0</td>\n",
       "    </tr>\n",
       "    <tr>\n",
       "      <th>2</th>\n",
       "      <td>68.0</td>\n",
       "      <td>(50.2, 79.4]</td>\n",
       "      <td>65.0</td>\n",
       "    </tr>\n",
       "    <tr>\n",
       "      <th>3</th>\n",
       "      <td>60.0</td>\n",
       "      <td>(50.2, 79.4]</td>\n",
       "      <td>65.0</td>\n",
       "    </tr>\n",
       "    <tr>\n",
       "      <th>4</th>\n",
       "      <td>84.0</td>\n",
       "      <td>(79.4, 108.6]</td>\n",
       "      <td>86.0</td>\n",
       "    </tr>\n",
       "  </tbody>\n",
       "</table>\n",
       "</div>"
      ],
      "text/plain": [
       "   LotFrontage_encoded LotFrontage_encoded_bin_bound  LotFrontage_encoded_bin\n",
       "0                 65.0                  (50.2, 79.4]                     65.0\n",
       "1                 80.0                 (79.4, 108.6]                     86.0\n",
       "2                 68.0                  (50.2, 79.4]                     65.0\n",
       "3                 60.0                  (50.2, 79.4]                     65.0\n",
       "4                 84.0                 (79.4, 108.6]                     86.0"
      ]
     },
     "execution_count": 64,
     "metadata": {},
     "output_type": "execute_result"
    }
   ],
   "source": [
    "# Replace each bin label by the bin median\n",
    "\n",
    "for bin_bound in lotfrontage_bin_bounds:\n",
    "    condition = (df_lotfrontage_bin.LotFrontage_encoded_bin_bound == bin_bound)\n",
    "    df_lotfrontage_bin.loc[condition, 'LotFrontage_encoded_bin'] = df_lotfrontage_bin[condition].LotFrontage_encoded.median()\n",
    "\n",
    "# The value of each is placed in the column 'LotFrontage_encoded_bin'    \n",
    "\n",
    "df_lotfrontage_bin.head()"
   ]
  },
  {
   "cell_type": "markdown",
   "metadata": {},
   "source": [
    "#### F.2. Standardize 'GarageArea', instead of using 'GarageArea_scale'"
   ]
  },
  {
   "cell_type": "code",
   "execution_count": 65,
   "metadata": {},
   "outputs": [],
   "source": [
    "df_garagearea_zscore = get_series_zscore_dataframe(df_houses.GarageArea, 'GarageArea_zscore')"
   ]
  },
  {
   "cell_type": "markdown",
   "metadata": {},
   "source": [
    "#### F.3. Train + Evaluation"
   ]
  },
  {
   "cell_type": "code",
   "execution_count": 66,
   "metadata": {},
   "outputs": [
    {
     "data": {
      "text/html": [
       "<div>\n",
       "<style scoped>\n",
       "    .dataframe tbody tr th:only-of-type {\n",
       "        vertical-align: middle;\n",
       "    }\n",
       "\n",
       "    .dataframe tbody tr th {\n",
       "        vertical-align: top;\n",
       "    }\n",
       "\n",
       "    .dataframe thead th {\n",
       "        text-align: right;\n",
       "    }\n",
       "</style>\n",
       "<table border=\"1\" class=\"dataframe\">\n",
       "  <thead>\n",
       "    <tr style=\"text-align: right;\">\n",
       "      <th></th>\n",
       "      <th>LotFrontage_is_nan</th>\n",
       "      <th>MasVnrType_BrkCmn</th>\n",
       "      <th>MasVnrType_BrkFace</th>\n",
       "      <th>MasVnrType_None</th>\n",
       "      <th>MasVnrType_Stone</th>\n",
       "      <th>FullBath</th>\n",
       "      <th>GarageCars</th>\n",
       "      <th>YearBuilt_bin</th>\n",
       "      <th>LotFrontage_encoded_bin</th>\n",
       "      <th>GarageArea_zscore</th>\n",
       "    </tr>\n",
       "  </thead>\n",
       "  <tbody>\n",
       "    <tr>\n",
       "      <th>0</th>\n",
       "      <td>False</td>\n",
       "      <td>0</td>\n",
       "      <td>1</td>\n",
       "      <td>0</td>\n",
       "      <td>0</td>\n",
       "      <td>2</td>\n",
       "      <td>2</td>\n",
       "      <td>2004.0</td>\n",
       "      <td>65.0</td>\n",
       "      <td>0.351</td>\n",
       "    </tr>\n",
       "  </tbody>\n",
       "</table>\n",
       "</div>"
      ],
      "text/plain": [
       "   LotFrontage_is_nan  MasVnrType_BrkCmn  MasVnrType_BrkFace  MasVnrType_None  \\\n",
       "0               False                  0                   1                0   \n",
       "\n",
       "   MasVnrType_Stone  FullBath  GarageCars  YearBuilt_bin  \\\n",
       "0                 0         2           2         2004.0   \n",
       "\n",
       "   LotFrontage_encoded_bin  GarageArea_zscore  \n",
       "0                     65.0              0.351  "
      ]
     },
     "execution_count": 66,
     "metadata": {},
     "output_type": "execute_result"
    }
   ],
   "source": [
    "# Join the dataframe\n",
    "\n",
    "df_iteration_3 = pd.concat(\n",
    "    [df_iteration_2.drop(['YearBuilt', 'LotFrontage_encoded', 'GarageArea_scaled'], axis=1),\n",
    "     df_yearbuilt_bin.YearBuilt_bin, df_lotfrontage_bin.LotFrontage_encoded_bin, df_garagearea_zscore.GarageArea_zscore], axis=1)\n",
    "df_iteration_3.head(1)"
   ]
  },
  {
   "cell_type": "code",
   "execution_count": 67,
   "metadata": {},
   "outputs": [
    {
     "data": {
      "text/html": [
       "<div>\n",
       "<style scoped>\n",
       "    .dataframe tbody tr th:only-of-type {\n",
       "        vertical-align: middle;\n",
       "    }\n",
       "\n",
       "    .dataframe tbody tr th {\n",
       "        vertical-align: top;\n",
       "    }\n",
       "\n",
       "    .dataframe thead th {\n",
       "        text-align: right;\n",
       "    }\n",
       "</style>\n",
       "<table border=\"1\" class=\"dataframe\">\n",
       "  <thead>\n",
       "    <tr style=\"text-align: right;\">\n",
       "      <th></th>\n",
       "      <th>accuracy_score</th>\n",
       "    </tr>\n",
       "  </thead>\n",
       "  <tbody>\n",
       "    <tr>\n",
       "      <th>mandatory_features</th>\n",
       "      <td>0.678423</td>\n",
       "    </tr>\n",
       "    <tr>\n",
       "      <th>iteration_1</th>\n",
       "      <td>0.825726</td>\n",
       "    </tr>\n",
       "    <tr>\n",
       "      <th>iteration_2</th>\n",
       "      <td>0.825726</td>\n",
       "    </tr>\n",
       "    <tr>\n",
       "      <th>iteration_3</th>\n",
       "      <td>0.825726</td>\n",
       "    </tr>\n",
       "  </tbody>\n",
       "</table>\n",
       "</div>"
      ],
      "text/plain": [
       "                    accuracy_score\n",
       "mandatory_features        0.678423\n",
       "iteration_1               0.825726\n",
       "iteration_2               0.825726\n",
       "iteration_3               0.825726"
      ]
     },
     "execution_count": 67,
     "metadata": {},
     "output_type": "execute_result"
    }
   ],
   "source": [
    "df_train_evaluation.loc['iteration_3'] = train_and_evaluation(X=df_iteration_3, y=target_saleprice)\n",
    "df_train_evaluation"
   ]
  },
  {
   "cell_type": "markdown",
   "metadata": {},
   "source": [
    "Despite the efforts on binning and scaling features, the accuracy of the model remains with the same value."
   ]
  },
  {
   "cell_type": "code",
   "execution_count": null,
   "metadata": {},
   "outputs": [],
   "source": []
  },
  {
   "cell_type": "markdown",
   "metadata": {},
   "source": [
    "### G. Iteration #4"
   ]
  },
  {
   "cell_type": "markdown",
   "metadata": {},
   "source": [
    "#### G.1. Sets of unused optional features"
   ]
  },
  {
   "cell_type": "markdown",
   "metadata": {},
   "source": [
    "The result of the several iterations has kept the same accuracy value. Because of this, we will exchange the selected optional features by the next sets of three features in the correlation ranking: first set with 'TotRmsAbvGrd', 'Fireplaces' and 'OpenPorchSF'; second set with 'WoodDeckSF', 'SaleType' OHE features and 'SaleCondition' OHE features."
   ]
  },
  {
   "cell_type": "code",
   "execution_count": 68,
   "metadata": {},
   "outputs": [
    {
     "data": {
      "text/html": [
       "<div>\n",
       "<style scoped>\n",
       "    .dataframe tbody tr th:only-of-type {\n",
       "        vertical-align: middle;\n",
       "    }\n",
       "\n",
       "    .dataframe tbody tr th {\n",
       "        vertical-align: top;\n",
       "    }\n",
       "\n",
       "    .dataframe thead th {\n",
       "        text-align: right;\n",
       "    }\n",
       "</style>\n",
       "<table border=\"1\" class=\"dataframe\">\n",
       "  <thead>\n",
       "    <tr style=\"text-align: right;\">\n",
       "      <th></th>\n",
       "      <th>YearBuilt</th>\n",
       "      <th>LotFrontage_encoded</th>\n",
       "      <th>LotFrontage_is_nan</th>\n",
       "      <th>MasVnrType_BrkCmn</th>\n",
       "      <th>MasVnrType_BrkFace</th>\n",
       "      <th>MasVnrType_None</th>\n",
       "      <th>MasVnrType_Stone</th>\n",
       "      <th>TotRmsAbvGrd</th>\n",
       "      <th>Fireplaces</th>\n",
       "      <th>OpenPorchSF</th>\n",
       "    </tr>\n",
       "  </thead>\n",
       "  <tbody>\n",
       "    <tr>\n",
       "      <th>0</th>\n",
       "      <td>2003</td>\n",
       "      <td>65.0</td>\n",
       "      <td>False</td>\n",
       "      <td>0</td>\n",
       "      <td>1</td>\n",
       "      <td>0</td>\n",
       "      <td>0</td>\n",
       "      <td>8</td>\n",
       "      <td>0</td>\n",
       "      <td>61</td>\n",
       "    </tr>\n",
       "  </tbody>\n",
       "</table>\n",
       "</div>"
      ],
      "text/plain": [
       "   YearBuilt  LotFrontage_encoded  LotFrontage_is_nan  MasVnrType_BrkCmn  \\\n",
       "0       2003                 65.0               False                  0   \n",
       "\n",
       "   MasVnrType_BrkFace  MasVnrType_None  MasVnrType_Stone  TotRmsAbvGrd  \\\n",
       "0                   1                0                 0             8   \n",
       "\n",
       "   Fireplaces  OpenPorchSF  \n",
       "0           0           61  "
      ]
     },
     "execution_count": 68,
     "metadata": {},
     "output_type": "execute_result"
    }
   ],
   "source": [
    "# Mandatory features + 'TotRmsAbvGrd' + 'Fireplaces' + 'OpenPorchSF'\n",
    "\n",
    "df_next_set_1 = pd.concat([df_mandatory, df_houses_optional.TotRmsAbvGrd, df_houses_optional.Fireplaces, df_houses_optional.OpenPorchSF], axis=1)\n",
    "df_next_set_1.head(1)"
   ]
  },
  {
   "cell_type": "code",
   "execution_count": 69,
   "metadata": {},
   "outputs": [
    {
     "data": {
      "text/plain": [
       "0.7676348547717843"
      ]
     },
     "execution_count": 69,
     "metadata": {},
     "output_type": "execute_result"
    }
   ],
   "source": [
    "next_set_1_acc = train_and_evaluation(X=df_next_set_1, y=target_saleprice)\n",
    "next_set_1_acc"
   ]
  },
  {
   "cell_type": "code",
   "execution_count": 70,
   "metadata": {},
   "outputs": [
    {
     "data": {
      "text/html": [
       "<div>\n",
       "<style scoped>\n",
       "    .dataframe tbody tr th:only-of-type {\n",
       "        vertical-align: middle;\n",
       "    }\n",
       "\n",
       "    .dataframe tbody tr th {\n",
       "        vertical-align: top;\n",
       "    }\n",
       "\n",
       "    .dataframe thead th {\n",
       "        text-align: right;\n",
       "    }\n",
       "</style>\n",
       "<table border=\"1\" class=\"dataframe\">\n",
       "  <thead>\n",
       "    <tr style=\"text-align: right;\">\n",
       "      <th></th>\n",
       "      <th>YearBuilt</th>\n",
       "      <th>LotFrontage_encoded</th>\n",
       "      <th>LotFrontage_is_nan</th>\n",
       "      <th>MasVnrType_BrkCmn</th>\n",
       "      <th>MasVnrType_BrkFace</th>\n",
       "      <th>MasVnrType_None</th>\n",
       "      <th>MasVnrType_Stone</th>\n",
       "      <th>WoodDeckSF</th>\n",
       "      <th>SaleType_COD</th>\n",
       "      <th>SaleType_CWD</th>\n",
       "      <th>SaleType_Con</th>\n",
       "      <th>SaleType_ConLD</th>\n",
       "      <th>SaleType_ConLI</th>\n",
       "      <th>SaleType_ConLw</th>\n",
       "      <th>SaleType_New</th>\n",
       "      <th>SaleType_Oth</th>\n",
       "      <th>SaleType_WD</th>\n",
       "      <th>SaleCondition_Abnorml</th>\n",
       "      <th>SaleCondition_AdjLand</th>\n",
       "      <th>SaleCondition_Alloca</th>\n",
       "      <th>SaleCondition_Family</th>\n",
       "      <th>SaleCondition_Normal</th>\n",
       "      <th>SaleCondition_Partial</th>\n",
       "    </tr>\n",
       "  </thead>\n",
       "  <tbody>\n",
       "    <tr>\n",
       "      <th>0</th>\n",
       "      <td>2003</td>\n",
       "      <td>65.0</td>\n",
       "      <td>False</td>\n",
       "      <td>0</td>\n",
       "      <td>1</td>\n",
       "      <td>0</td>\n",
       "      <td>0</td>\n",
       "      <td>0</td>\n",
       "      <td>0</td>\n",
       "      <td>0</td>\n",
       "      <td>0</td>\n",
       "      <td>0</td>\n",
       "      <td>0</td>\n",
       "      <td>0</td>\n",
       "      <td>0</td>\n",
       "      <td>0</td>\n",
       "      <td>1</td>\n",
       "      <td>0</td>\n",
       "      <td>0</td>\n",
       "      <td>0</td>\n",
       "      <td>0</td>\n",
       "      <td>1</td>\n",
       "      <td>0</td>\n",
       "    </tr>\n",
       "  </tbody>\n",
       "</table>\n",
       "</div>"
      ],
      "text/plain": [
       "   YearBuilt  LotFrontage_encoded  LotFrontage_is_nan  MasVnrType_BrkCmn  \\\n",
       "0       2003                 65.0               False                  0   \n",
       "\n",
       "   MasVnrType_BrkFace  MasVnrType_None  MasVnrType_Stone  WoodDeckSF  \\\n",
       "0                   1                0                 0           0   \n",
       "\n",
       "   SaleType_COD  SaleType_CWD  SaleType_Con  SaleType_ConLD  SaleType_ConLI  \\\n",
       "0             0             0             0               0               0   \n",
       "\n",
       "   SaleType_ConLw  SaleType_New  SaleType_Oth  SaleType_WD  \\\n",
       "0               0             0             0            1   \n",
       "\n",
       "   SaleCondition_Abnorml  SaleCondition_AdjLand  SaleCondition_Alloca  \\\n",
       "0                      0                      0                     0   \n",
       "\n",
       "   SaleCondition_Family  SaleCondition_Normal  SaleCondition_Partial  \n",
       "0                     0                     1                      0  "
      ]
     },
     "execution_count": 70,
     "metadata": {},
     "output_type": "execute_result"
    }
   ],
   "source": [
    "# Mandatory features + 'WoodDeckSF' + 'SaleType' OHE features + 'SaleCondition' OHE features\n",
    "\n",
    "df_next_set_2 = pd.concat([df_mandatory, df_houses_optional.WoodDeckSF, df_categorical_ohe], axis=1)\n",
    "df_next_set_2.head(1)"
   ]
  },
  {
   "cell_type": "code",
   "execution_count": 71,
   "metadata": {},
   "outputs": [
    {
     "data": {
      "text/plain": [
       "0.6970954356846473"
      ]
     },
     "execution_count": 71,
     "metadata": {},
     "output_type": "execute_result"
    }
   ],
   "source": [
    "next_set_2_acc = train_and_evaluation(X=df_next_set_2, y=target_saleprice)\n",
    "next_set_2_acc"
   ]
  },
  {
   "cell_type": "raw",
   "metadata": {},
   "source": [
    "The fact that both models performed worse than the previous ones proves the importance of using the most correlated features in our model."
   ]
  },
  {
   "cell_type": "markdown",
   "metadata": {},
   "source": [
    "#### G.2. Joining unused optional features with the most correlated"
   ]
  },
  {
   "cell_type": "raw",
   "metadata": {},
   "source": [
    "Since the features 'FullBath' and 'GarageCars', together with the mandatory features, seem to be driving most of the model accuracy, we will test the results when joining these features with each one of the others."
   ]
  },
  {
   "cell_type": "code",
   "execution_count": 72,
   "metadata": {},
   "outputs": [
    {
     "name": "stdout",
     "output_type": "stream",
     "text": [
      "OpenPorchSF: 0.8340248962655602\n",
      "Fireplaces: 0.8298755186721992\n",
      "TotRmsAbvGrd: 0.8278008298755186\n",
      "WoodDeckSF: 0.8278008298755186\n",
      "SaleType OHE: 0.8278008298755186\n",
      "SaleCondition OHE: 0.8278008298755186\n"
     ]
    }
   ],
   "source": [
    "# Go through 'TotRmsAbvGrd', 'Fireplaces', 'OpenPorchSF', 'WoodDeckSF', 'SaleType' OHE features and 'SaleCondition' OHE features\n",
    "# Train and test the algorithm for each of them, joined with \n",
    "\n",
    "additional_features = [df_houses_optional.TotRmsAbvGrd, df_houses_optional.Fireplaces, df_houses_optional.OpenPorchSF,\n",
    "                       df_houses_optional.WoodDeckSF, df_sale_type_ohe, df_sale_condition_ohe]\n",
    "\n",
    "features_labels = ['TotRmsAbvGrd', 'Fireplaces', 'OpenPorchSF', 'WoodDeckSF', 'SaleType OHE', 'SaleCondition OHE']\n",
    "i = 0\n",
    "list_add_features = []\n",
    "\n",
    "for add_feature in additional_features:\n",
    "    \n",
    "    result = train_and_evaluation(\n",
    "                        X=pd.concat([df_mandatory, df_houses_optional.FullBath, df_houses_optional.GarageCars, add_feature], axis=1),\n",
    "                        y=target_saleprice)\n",
    "    \n",
    "    list_add_features.append(AdditionalFeature(features_labels[i], result))\n",
    "    i += 1\n",
    "    \n",
    "# Sort the objects in the list by their accuracy\n",
    "list_add_features_sorted = sorted(list_add_features, key=lambda x: x.accuracy, reverse=True)\n",
    "\n",
    "for feature_acc in list_add_features_sorted:\n",
    "    print(feature_acc)"
   ]
  },
  {
   "cell_type": "raw",
   "metadata": {},
   "source": [
    "Interestingly, all the results of this experiment are better than the iterations so far. Therefore, we will register the best result achieved here (the accuracy achieved with: mandatory features + 'FullBath' + 'GarageCars' + 'OpenPorchSF')."
   ]
  },
  {
   "cell_type": "code",
   "execution_count": 73,
   "metadata": {},
   "outputs": [
    {
     "data": {
      "text/html": [
       "<div>\n",
       "<style scoped>\n",
       "    .dataframe tbody tr th:only-of-type {\n",
       "        vertical-align: middle;\n",
       "    }\n",
       "\n",
       "    .dataframe tbody tr th {\n",
       "        vertical-align: top;\n",
       "    }\n",
       "\n",
       "    .dataframe thead th {\n",
       "        text-align: right;\n",
       "    }\n",
       "</style>\n",
       "<table border=\"1\" class=\"dataframe\">\n",
       "  <thead>\n",
       "    <tr style=\"text-align: right;\">\n",
       "      <th></th>\n",
       "      <th>accuracy_score</th>\n",
       "    </tr>\n",
       "  </thead>\n",
       "  <tbody>\n",
       "    <tr>\n",
       "      <th>mandatory_features</th>\n",
       "      <td>0.678423</td>\n",
       "    </tr>\n",
       "    <tr>\n",
       "      <th>iteration_1</th>\n",
       "      <td>0.825726</td>\n",
       "    </tr>\n",
       "    <tr>\n",
       "      <th>iteration_2</th>\n",
       "      <td>0.825726</td>\n",
       "    </tr>\n",
       "    <tr>\n",
       "      <th>iteration_3</th>\n",
       "      <td>0.825726</td>\n",
       "    </tr>\n",
       "    <tr>\n",
       "      <th>iteration_4</th>\n",
       "      <td>0.834025</td>\n",
       "    </tr>\n",
       "  </tbody>\n",
       "</table>\n",
       "</div>"
      ],
      "text/plain": [
       "                    accuracy_score\n",
       "mandatory_features        0.678423\n",
       "iteration_1               0.825726\n",
       "iteration_2               0.825726\n",
       "iteration_3               0.825726\n",
       "iteration_4               0.834025"
      ]
     },
     "execution_count": 73,
     "metadata": {},
     "output_type": "execute_result"
    }
   ],
   "source": [
    "df_train_evaluation.loc['iteration_4'] = list_add_features_sorted[0].accuracy\n",
    "df_train_evaluation"
   ]
  },
  {
   "cell_type": "code",
   "execution_count": 74,
   "metadata": {},
   "outputs": [
    {
     "data": {
      "text/html": [
       "<div>\n",
       "<style scoped>\n",
       "    .dataframe tbody tr th:only-of-type {\n",
       "        vertical-align: middle;\n",
       "    }\n",
       "\n",
       "    .dataframe tbody tr th {\n",
       "        vertical-align: top;\n",
       "    }\n",
       "\n",
       "    .dataframe thead th {\n",
       "        text-align: right;\n",
       "    }\n",
       "</style>\n",
       "<table border=\"1\" class=\"dataframe\">\n",
       "  <thead>\n",
       "    <tr style=\"text-align: right;\">\n",
       "      <th></th>\n",
       "      <th>YearBuilt</th>\n",
       "      <th>LotFrontage_encoded</th>\n",
       "      <th>LotFrontage_is_nan</th>\n",
       "      <th>MasVnrType_BrkCmn</th>\n",
       "      <th>MasVnrType_BrkFace</th>\n",
       "      <th>MasVnrType_None</th>\n",
       "      <th>MasVnrType_Stone</th>\n",
       "      <th>FullBath</th>\n",
       "      <th>GarageCars</th>\n",
       "      <th>OpenPorchSF</th>\n",
       "    </tr>\n",
       "  </thead>\n",
       "  <tbody>\n",
       "    <tr>\n",
       "      <th>0</th>\n",
       "      <td>2003</td>\n",
       "      <td>65.0</td>\n",
       "      <td>False</td>\n",
       "      <td>0</td>\n",
       "      <td>1</td>\n",
       "      <td>0</td>\n",
       "      <td>0</td>\n",
       "      <td>2</td>\n",
       "      <td>2</td>\n",
       "      <td>61</td>\n",
       "    </tr>\n",
       "  </tbody>\n",
       "</table>\n",
       "</div>"
      ],
      "text/plain": [
       "   YearBuilt  LotFrontage_encoded  LotFrontage_is_nan  MasVnrType_BrkCmn  \\\n",
       "0       2003                 65.0               False                  0   \n",
       "\n",
       "   MasVnrType_BrkFace  MasVnrType_None  MasVnrType_Stone  FullBath  \\\n",
       "0                   1                0                 0         2   \n",
       "\n",
       "   GarageCars  OpenPorchSF  \n",
       "0           2           61  "
      ]
     },
     "execution_count": 74,
     "metadata": {},
     "output_type": "execute_result"
    }
   ],
   "source": [
    "# Define the dataframe with the best accuracy in this iteration, for later use\n",
    "\n",
    "df_iteration_4 = pd.concat(\n",
    "    [df_mandatory, df_houses_optional.FullBath, df_houses_optional.GarageCars, df_houses_optional.OpenPorchSF], axis=1)\n",
    "df_iteration_4.head(1)"
   ]
  },
  {
   "cell_type": "code",
   "execution_count": null,
   "metadata": {},
   "outputs": [],
   "source": []
  },
  {
   "cell_type": "markdown",
   "metadata": {},
   "source": [
    "### H. Iteration #5"
   ]
  },
  {
   "cell_type": "raw",
   "metadata": {},
   "source": [
    "In this iteration, we will use the data from 'df_iteration_4', since it is the set with the best result so far.\n",
    "The model we are training is a logistic regression that employs regularization ('liblinear' solver). Because of this, the scaling of features may improve the prediction capabilities.\n",
    "We will test two scaling strategies, applied to all the features of the dataframe:\n",
    "- normalization between 0 (zero) and 1 (one);\n",
    "- z-score standardization."
   ]
  },
  {
   "cell_type": "markdown",
   "metadata": {},
   "source": [
    "#### H.1. Normalization between [0; 1]"
   ]
  },
  {
   "cell_type": "code",
   "execution_count": 75,
   "metadata": {},
   "outputs": [
    {
     "data": {
      "text/html": [
       "<div>\n",
       "<style scoped>\n",
       "    .dataframe tbody tr th:only-of-type {\n",
       "        vertical-align: middle;\n",
       "    }\n",
       "\n",
       "    .dataframe tbody tr th {\n",
       "        vertical-align: top;\n",
       "    }\n",
       "\n",
       "    .dataframe thead th {\n",
       "        text-align: right;\n",
       "    }\n",
       "</style>\n",
       "<table border=\"1\" class=\"dataframe\">\n",
       "  <thead>\n",
       "    <tr style=\"text-align: right;\">\n",
       "      <th></th>\n",
       "      <th>YearBuilt</th>\n",
       "      <th>LotFrontage_encoded</th>\n",
       "      <th>LotFrontage_is_nan</th>\n",
       "      <th>MasVnrType_BrkCmn</th>\n",
       "      <th>MasVnrType_BrkFace</th>\n",
       "      <th>MasVnrType_None</th>\n",
       "      <th>MasVnrType_Stone</th>\n",
       "      <th>FullBath</th>\n",
       "      <th>GarageCars</th>\n",
       "      <th>OpenPorchSF</th>\n",
       "    </tr>\n",
       "  </thead>\n",
       "  <tbody>\n",
       "    <tr>\n",
       "      <th>count</th>\n",
       "      <td>1460.000000</td>\n",
       "      <td>1460.000000</td>\n",
       "      <td>1460.000000</td>\n",
       "      <td>1460.000000</td>\n",
       "      <td>1460.000000</td>\n",
       "      <td>1460.000000</td>\n",
       "      <td>1460.000000</td>\n",
       "      <td>1460.000000</td>\n",
       "      <td>1460.000000</td>\n",
       "      <td>1460.000000</td>\n",
       "    </tr>\n",
       "    <tr>\n",
       "      <th>mean</th>\n",
       "      <td>0.719332</td>\n",
       "      <td>0.186133</td>\n",
       "      <td>0.177397</td>\n",
       "      <td>0.010274</td>\n",
       "      <td>0.304795</td>\n",
       "      <td>0.591781</td>\n",
       "      <td>0.087671</td>\n",
       "      <td>0.521689</td>\n",
       "      <td>0.441781</td>\n",
       "      <td>0.085302</td>\n",
       "    </tr>\n",
       "    <tr>\n",
       "      <th>std</th>\n",
       "      <td>0.218862</td>\n",
       "      <td>0.111338</td>\n",
       "      <td>0.382135</td>\n",
       "      <td>0.100873</td>\n",
       "      <td>0.460478</td>\n",
       "      <td>0.491673</td>\n",
       "      <td>0.282913</td>\n",
       "      <td>0.183639</td>\n",
       "      <td>0.186829</td>\n",
       "      <td>0.121126</td>\n",
       "    </tr>\n",
       "    <tr>\n",
       "      <th>min</th>\n",
       "      <td>0.000000</td>\n",
       "      <td>0.000000</td>\n",
       "      <td>0.000000</td>\n",
       "      <td>0.000000</td>\n",
       "      <td>0.000000</td>\n",
       "      <td>0.000000</td>\n",
       "      <td>0.000000</td>\n",
       "      <td>0.000000</td>\n",
       "      <td>0.000000</td>\n",
       "      <td>0.000000</td>\n",
       "    </tr>\n",
       "    <tr>\n",
       "      <th>25%</th>\n",
       "      <td>0.594203</td>\n",
       "      <td>0.136943</td>\n",
       "      <td>0.000000</td>\n",
       "      <td>0.000000</td>\n",
       "      <td>0.000000</td>\n",
       "      <td>0.000000</td>\n",
       "      <td>0.000000</td>\n",
       "      <td>0.333333</td>\n",
       "      <td>0.250000</td>\n",
       "      <td>0.000000</td>\n",
       "    </tr>\n",
       "    <tr>\n",
       "      <th>50%</th>\n",
       "      <td>0.731884</td>\n",
       "      <td>0.203822</td>\n",
       "      <td>0.000000</td>\n",
       "      <td>0.000000</td>\n",
       "      <td>0.000000</td>\n",
       "      <td>1.000000</td>\n",
       "      <td>0.000000</td>\n",
       "      <td>0.666667</td>\n",
       "      <td>0.500000</td>\n",
       "      <td>0.045704</td>\n",
       "    </tr>\n",
       "    <tr>\n",
       "      <th>75%</th>\n",
       "      <td>0.927536</td>\n",
       "      <td>0.254777</td>\n",
       "      <td>0.000000</td>\n",
       "      <td>0.000000</td>\n",
       "      <td>1.000000</td>\n",
       "      <td>1.000000</td>\n",
       "      <td>0.000000</td>\n",
       "      <td>0.666667</td>\n",
       "      <td>0.500000</td>\n",
       "      <td>0.124314</td>\n",
       "    </tr>\n",
       "    <tr>\n",
       "      <th>max</th>\n",
       "      <td>1.000000</td>\n",
       "      <td>1.000000</td>\n",
       "      <td>1.000000</td>\n",
       "      <td>1.000000</td>\n",
       "      <td>1.000000</td>\n",
       "      <td>1.000000</td>\n",
       "      <td>1.000000</td>\n",
       "      <td>1.000000</td>\n",
       "      <td>1.000000</td>\n",
       "      <td>1.000000</td>\n",
       "    </tr>\n",
       "  </tbody>\n",
       "</table>\n",
       "</div>"
      ],
      "text/plain": [
       "         YearBuilt  LotFrontage_encoded  LotFrontage_is_nan  \\\n",
       "count  1460.000000          1460.000000         1460.000000   \n",
       "mean      0.719332             0.186133            0.177397   \n",
       "std       0.218862             0.111338            0.382135   \n",
       "min       0.000000             0.000000            0.000000   \n",
       "25%       0.594203             0.136943            0.000000   \n",
       "50%       0.731884             0.203822            0.000000   \n",
       "75%       0.927536             0.254777            0.000000   \n",
       "max       1.000000             1.000000            1.000000   \n",
       "\n",
       "       MasVnrType_BrkCmn  MasVnrType_BrkFace  MasVnrType_None  \\\n",
       "count        1460.000000         1460.000000      1460.000000   \n",
       "mean            0.010274            0.304795         0.591781   \n",
       "std             0.100873            0.460478         0.491673   \n",
       "min             0.000000            0.000000         0.000000   \n",
       "25%             0.000000            0.000000         0.000000   \n",
       "50%             0.000000            0.000000         1.000000   \n",
       "75%             0.000000            1.000000         1.000000   \n",
       "max             1.000000            1.000000         1.000000   \n",
       "\n",
       "       MasVnrType_Stone     FullBath   GarageCars  OpenPorchSF  \n",
       "count       1460.000000  1460.000000  1460.000000  1460.000000  \n",
       "mean           0.087671     0.521689     0.441781     0.085302  \n",
       "std            0.282913     0.183639     0.186829     0.121126  \n",
       "min            0.000000     0.000000     0.000000     0.000000  \n",
       "25%            0.000000     0.333333     0.250000     0.000000  \n",
       "50%            0.000000     0.666667     0.500000     0.045704  \n",
       "75%            0.000000     0.666667     0.500000     0.124314  \n",
       "max            1.000000     1.000000     1.000000     1.000000  "
      ]
     },
     "execution_count": 75,
     "metadata": {},
     "output_type": "execute_result"
    }
   ],
   "source": [
    "df_iteration_5_norm = get_dataframe_scaled(df_iteration_4)\n",
    "df_iteration_5_norm.describe()"
   ]
  },
  {
   "cell_type": "markdown",
   "metadata": {},
   "source": [
    "#### H.2. Z-Score standardization"
   ]
  },
  {
   "cell_type": "code",
   "execution_count": 76,
   "metadata": {},
   "outputs": [
    {
     "data": {
      "text/html": [
       "<div>\n",
       "<style scoped>\n",
       "    .dataframe tbody tr th:only-of-type {\n",
       "        vertical-align: middle;\n",
       "    }\n",
       "\n",
       "    .dataframe tbody tr th {\n",
       "        vertical-align: top;\n",
       "    }\n",
       "\n",
       "    .dataframe thead th {\n",
       "        text-align: right;\n",
       "    }\n",
       "</style>\n",
       "<table border=\"1\" class=\"dataframe\">\n",
       "  <thead>\n",
       "    <tr style=\"text-align: right;\">\n",
       "      <th></th>\n",
       "      <th>YearBuilt</th>\n",
       "      <th>LotFrontage_encoded</th>\n",
       "      <th>LotFrontage_is_nan</th>\n",
       "      <th>MasVnrType_BrkCmn</th>\n",
       "      <th>MasVnrType_BrkFace</th>\n",
       "      <th>MasVnrType_None</th>\n",
       "      <th>MasVnrType_Stone</th>\n",
       "      <th>FullBath</th>\n",
       "      <th>GarageCars</th>\n",
       "      <th>OpenPorchSF</th>\n",
       "    </tr>\n",
       "  </thead>\n",
       "  <tbody>\n",
       "    <tr>\n",
       "      <th>count</th>\n",
       "      <td>1.460000e+03</td>\n",
       "      <td>1.460000e+03</td>\n",
       "      <td>1.460000e+03</td>\n",
       "      <td>1.460000e+03</td>\n",
       "      <td>1.460000e+03</td>\n",
       "      <td>1.460000e+03</td>\n",
       "      <td>1.460000e+03</td>\n",
       "      <td>1.460000e+03</td>\n",
       "      <td>1.460000e+03</td>\n",
       "      <td>1.460000e+03</td>\n",
       "    </tr>\n",
       "    <tr>\n",
       "      <th>mean</th>\n",
       "      <td>1.032983e-15</td>\n",
       "      <td>8.562405e-17</td>\n",
       "      <td>-6.668942e-17</td>\n",
       "      <td>3.119651e-17</td>\n",
       "      <td>1.463061e-16</td>\n",
       "      <td>-1.350518e-16</td>\n",
       "      <td>-1.551271e-16</td>\n",
       "      <td>2.770995e-16</td>\n",
       "      <td>2.585451e-17</td>\n",
       "      <td>3.357284e-17</td>\n",
       "    </tr>\n",
       "    <tr>\n",
       "      <th>std</th>\n",
       "      <td>1.000343e+00</td>\n",
       "      <td>1.000343e+00</td>\n",
       "      <td>1.000343e+00</td>\n",
       "      <td>1.000343e+00</td>\n",
       "      <td>1.000343e+00</td>\n",
       "      <td>1.000343e+00</td>\n",
       "      <td>1.000343e+00</td>\n",
       "      <td>1.000343e+00</td>\n",
       "      <td>1.000343e+00</td>\n",
       "      <td>1.000343e+00</td>\n",
       "    </tr>\n",
       "    <tr>\n",
       "      <th>min</th>\n",
       "      <td>-3.287824e+00</td>\n",
       "      <td>-1.672354e+00</td>\n",
       "      <td>-4.643852e-01</td>\n",
       "      <td>-1.018853e-01</td>\n",
       "      <td>-6.621357e-01</td>\n",
       "      <td>-1.204020e+00</td>\n",
       "      <td>-3.099937e-01</td>\n",
       "      <td>-2.841822e+00</td>\n",
       "      <td>-2.365440e+00</td>\n",
       "      <td>-7.044833e-01</td>\n",
       "    </tr>\n",
       "    <tr>\n",
       "      <th>25%</th>\n",
       "      <td>-5.719226e-01</td>\n",
       "      <td>-4.419644e-01</td>\n",
       "      <td>-4.643852e-01</td>\n",
       "      <td>-1.018853e-01</td>\n",
       "      <td>-6.621357e-01</td>\n",
       "      <td>-1.204020e+00</td>\n",
       "      <td>-3.099937e-01</td>\n",
       "      <td>-1.026041e+00</td>\n",
       "      <td>-1.026858e+00</td>\n",
       "      <td>-7.044833e-01</td>\n",
       "    </tr>\n",
       "    <tr>\n",
       "      <th>50%</th>\n",
       "      <td>5.737148e-02</td>\n",
       "      <td>1.589238e-01</td>\n",
       "      <td>-4.643852e-01</td>\n",
       "      <td>-1.018853e-01</td>\n",
       "      <td>-6.621357e-01</td>\n",
       "      <td>8.305509e-01</td>\n",
       "      <td>-3.099937e-01</td>\n",
       "      <td>7.897405e-01</td>\n",
       "      <td>3.117246e-01</td>\n",
       "      <td>-3.270298e-01</td>\n",
       "    </tr>\n",
       "    <tr>\n",
       "      <th>75%</th>\n",
       "      <td>9.516316e-01</td>\n",
       "      <td>6.167433e-01</td>\n",
       "      <td>-4.643852e-01</td>\n",
       "      <td>-1.018853e-01</td>\n",
       "      <td>1.510265e+00</td>\n",
       "      <td>8.305509e-01</td>\n",
       "      <td>-3.099937e-01</td>\n",
       "      <td>7.897405e-01</td>\n",
       "      <td>3.117246e-01</td>\n",
       "      <td>3.221901e-01</td>\n",
       "    </tr>\n",
       "    <tr>\n",
       "      <th>max</th>\n",
       "      <td>1.282839e+00</td>\n",
       "      <td>7.312354e+00</td>\n",
       "      <td>2.153385e+00</td>\n",
       "      <td>9.814955e+00</td>\n",
       "      <td>1.510265e+00</td>\n",
       "      <td>8.305509e-01</td>\n",
       "      <td>3.225872e+00</td>\n",
       "      <td>2.605522e+00</td>\n",
       "      <td>2.988889e+00</td>\n",
       "      <td>7.554198e+00</td>\n",
       "    </tr>\n",
       "  </tbody>\n",
       "</table>\n",
       "</div>"
      ],
      "text/plain": [
       "          YearBuilt  LotFrontage_encoded  LotFrontage_is_nan  \\\n",
       "count  1.460000e+03         1.460000e+03        1.460000e+03   \n",
       "mean   1.032983e-15         8.562405e-17       -6.668942e-17   \n",
       "std    1.000343e+00         1.000343e+00        1.000343e+00   \n",
       "min   -3.287824e+00        -1.672354e+00       -4.643852e-01   \n",
       "25%   -5.719226e-01        -4.419644e-01       -4.643852e-01   \n",
       "50%    5.737148e-02         1.589238e-01       -4.643852e-01   \n",
       "75%    9.516316e-01         6.167433e-01       -4.643852e-01   \n",
       "max    1.282839e+00         7.312354e+00        2.153385e+00   \n",
       "\n",
       "       MasVnrType_BrkCmn  MasVnrType_BrkFace  MasVnrType_None  \\\n",
       "count       1.460000e+03        1.460000e+03     1.460000e+03   \n",
       "mean        3.119651e-17        1.463061e-16    -1.350518e-16   \n",
       "std         1.000343e+00        1.000343e+00     1.000343e+00   \n",
       "min        -1.018853e-01       -6.621357e-01    -1.204020e+00   \n",
       "25%        -1.018853e-01       -6.621357e-01    -1.204020e+00   \n",
       "50%        -1.018853e-01       -6.621357e-01     8.305509e-01   \n",
       "75%        -1.018853e-01        1.510265e+00     8.305509e-01   \n",
       "max         9.814955e+00        1.510265e+00     8.305509e-01   \n",
       "\n",
       "       MasVnrType_Stone      FullBath    GarageCars   OpenPorchSF  \n",
       "count      1.460000e+03  1.460000e+03  1.460000e+03  1.460000e+03  \n",
       "mean      -1.551271e-16  2.770995e-16  2.585451e-17  3.357284e-17  \n",
       "std        1.000343e+00  1.000343e+00  1.000343e+00  1.000343e+00  \n",
       "min       -3.099937e-01 -2.841822e+00 -2.365440e+00 -7.044833e-01  \n",
       "25%       -3.099937e-01 -1.026041e+00 -1.026858e+00 -7.044833e-01  \n",
       "50%       -3.099937e-01  7.897405e-01  3.117246e-01 -3.270298e-01  \n",
       "75%       -3.099937e-01  7.897405e-01  3.117246e-01  3.221901e-01  \n",
       "max        3.225872e+00  2.605522e+00  2.988889e+00  7.554198e+00  "
      ]
     },
     "execution_count": 76,
     "metadata": {},
     "output_type": "execute_result"
    }
   ],
   "source": [
    "df_iteration_5_standard = get_dataframe_zscore(df_iteration_4)\n",
    "df_iteration_5_standard.describe()"
   ]
  },
  {
   "cell_type": "markdown",
   "metadata": {},
   "source": [
    "#### H.3. Train + Evaluation"
   ]
  },
  {
   "cell_type": "code",
   "execution_count": 77,
   "metadata": {},
   "outputs": [
    {
     "name": "stdout",
     "output_type": "stream",
     "text": [
      "Features normalized between [0; 1]:\n"
     ]
    },
    {
     "data": {
      "text/plain": [
       "0.8402489626556017"
      ]
     },
     "execution_count": 77,
     "metadata": {},
     "output_type": "execute_result"
    }
   ],
   "source": [
    "print('Features normalized between [0; 1]:')\n",
    "iter5_norm_acc = train_and_evaluation(X=df_iteration_5_norm, y=target_saleprice)\n",
    "iter5_norm_acc"
   ]
  },
  {
   "cell_type": "code",
   "execution_count": 78,
   "metadata": {},
   "outputs": [
    {
     "name": "stdout",
     "output_type": "stream",
     "text": [
      "Z-Score standardization:\n"
     ]
    },
    {
     "data": {
      "text/plain": [
       "0.8506224066390041"
      ]
     },
     "execution_count": 78,
     "metadata": {},
     "output_type": "execute_result"
    }
   ],
   "source": [
    "print('Z-Score standardization:')\n",
    "iter5_standard_acc = train_and_evaluation(X=df_iteration_5_standard, y=target_saleprice)\n",
    "iter5_standard_acc"
   ]
  },
  {
   "cell_type": "raw",
   "metadata": {},
   "source": [
    "This iteration shows that, as expected, both the normalization in [0; 1] and the z-score standardization improved the algorithm's accuracy, with the best value being achieved with the z-score. Therefore, we will register this result for the iteration."
   ]
  },
  {
   "cell_type": "code",
   "execution_count": 79,
   "metadata": {},
   "outputs": [
    {
     "data": {
      "text/html": [
       "<div>\n",
       "<style scoped>\n",
       "    .dataframe tbody tr th:only-of-type {\n",
       "        vertical-align: middle;\n",
       "    }\n",
       "\n",
       "    .dataframe tbody tr th {\n",
       "        vertical-align: top;\n",
       "    }\n",
       "\n",
       "    .dataframe thead th {\n",
       "        text-align: right;\n",
       "    }\n",
       "</style>\n",
       "<table border=\"1\" class=\"dataframe\">\n",
       "  <thead>\n",
       "    <tr style=\"text-align: right;\">\n",
       "      <th></th>\n",
       "      <th>accuracy_score</th>\n",
       "    </tr>\n",
       "  </thead>\n",
       "  <tbody>\n",
       "    <tr>\n",
       "      <th>mandatory_features</th>\n",
       "      <td>0.678423</td>\n",
       "    </tr>\n",
       "    <tr>\n",
       "      <th>iteration_1</th>\n",
       "      <td>0.825726</td>\n",
       "    </tr>\n",
       "    <tr>\n",
       "      <th>iteration_2</th>\n",
       "      <td>0.825726</td>\n",
       "    </tr>\n",
       "    <tr>\n",
       "      <th>iteration_3</th>\n",
       "      <td>0.825726</td>\n",
       "    </tr>\n",
       "    <tr>\n",
       "      <th>iteration_4</th>\n",
       "      <td>0.834025</td>\n",
       "    </tr>\n",
       "    <tr>\n",
       "      <th>iteration_5</th>\n",
       "      <td>0.850622</td>\n",
       "    </tr>\n",
       "  </tbody>\n",
       "</table>\n",
       "</div>"
      ],
      "text/plain": [
       "                    accuracy_score\n",
       "mandatory_features        0.678423\n",
       "iteration_1               0.825726\n",
       "iteration_2               0.825726\n",
       "iteration_3               0.825726\n",
       "iteration_4               0.834025\n",
       "iteration_5               0.850622"
      ]
     },
     "execution_count": 79,
     "metadata": {},
     "output_type": "execute_result"
    }
   ],
   "source": [
    "df_train_evaluation.loc['iteration_5'] = iter5_standard_acc\n",
    "df_train_evaluation"
   ]
  },
  {
   "cell_type": "code",
   "execution_count": null,
   "metadata": {},
   "outputs": [],
   "source": []
  },
  {
   "cell_type": "markdown",
   "metadata": {},
   "source": [
    "### I. Iteration #6"
   ]
  },
  {
   "cell_type": "raw",
   "metadata": {},
   "source": [
    "In this iteration, we will use the data from 'df_iteration_5_standard'. Besides being the set with the best accuracy, in the current iteration, we will apply the PCA technique to the data; thus it makes sense that all the columns are standardized and centered."
   ]
  },
  {
   "cell_type": "markdown",
   "metadata": {},
   "source": [
    "#### I.1. Applying PCA"
   ]
  },
  {
   "cell_type": "code",
   "execution_count": 80,
   "metadata": {},
   "outputs": [],
   "source": [
    "components, explained_variance_ratio = compute_pca(df_iteration_5_standard)"
   ]
  },
  {
   "cell_type": "code",
   "execution_count": 81,
   "metadata": {},
   "outputs": [
    {
     "name": "stdout",
     "output_type": "stream",
     "text": [
      "Principal Components:\n"
     ]
    },
    {
     "data": {
      "text/html": [
       "<div>\n",
       "<style scoped>\n",
       "    .dataframe tbody tr th:only-of-type {\n",
       "        vertical-align: middle;\n",
       "    }\n",
       "\n",
       "    .dataframe tbody tr th {\n",
       "        vertical-align: top;\n",
       "    }\n",
       "\n",
       "    .dataframe thead th {\n",
       "        text-align: right;\n",
       "    }\n",
       "</style>\n",
       "<table border=\"1\" class=\"dataframe\">\n",
       "  <thead>\n",
       "    <tr style=\"text-align: right;\">\n",
       "      <th></th>\n",
       "      <th>0</th>\n",
       "      <th>1</th>\n",
       "      <th>2</th>\n",
       "      <th>3</th>\n",
       "      <th>4</th>\n",
       "      <th>5</th>\n",
       "      <th>6</th>\n",
       "      <th>7</th>\n",
       "      <th>8</th>\n",
       "      <th>9</th>\n",
       "    </tr>\n",
       "  </thead>\n",
       "  <tbody>\n",
       "    <tr>\n",
       "      <th>0</th>\n",
       "      <td>1.970291</td>\n",
       "      <td>-0.183173</td>\n",
       "      <td>-1.204517</td>\n",
       "      <td>-0.320934</td>\n",
       "      <td>0.344944</td>\n",
       "      <td>-0.118668</td>\n",
       "      <td>-0.247746</td>\n",
       "      <td>-0.511382</td>\n",
       "      <td>-0.214697</td>\n",
       "      <td>-0.014960</td>\n",
       "    </tr>\n",
       "    <tr>\n",
       "      <th>1</th>\n",
       "      <td>-0.247145</td>\n",
       "      <td>1.027784</td>\n",
       "      <td>0.348070</td>\n",
       "      <td>-0.345024</td>\n",
       "      <td>0.055191</td>\n",
       "      <td>-1.282295</td>\n",
       "      <td>-0.288745</td>\n",
       "      <td>0.075416</td>\n",
       "      <td>0.120468</td>\n",
       "      <td>-0.007857</td>\n",
       "    </tr>\n",
       "    <tr>\n",
       "      <th>2</th>\n",
       "      <td>1.888631</td>\n",
       "      <td>-0.141562</td>\n",
       "      <td>-1.323978</td>\n",
       "      <td>-0.291776</td>\n",
       "      <td>0.173388</td>\n",
       "      <td>-0.288549</td>\n",
       "      <td>-0.295238</td>\n",
       "      <td>-0.438584</td>\n",
       "      <td>-0.146296</td>\n",
       "      <td>-0.013358</td>\n",
       "    </tr>\n",
       "    <tr>\n",
       "      <th>3</th>\n",
       "      <td>-1.228671</td>\n",
       "      <td>0.708449</td>\n",
       "      <td>0.145340</td>\n",
       "      <td>-0.024900</td>\n",
       "      <td>0.089597</td>\n",
       "      <td>-0.165144</td>\n",
       "      <td>1.256851</td>\n",
       "      <td>2.168790</td>\n",
       "      <td>-0.619765</td>\n",
       "      <td>0.009322</td>\n",
       "    </tr>\n",
       "    <tr>\n",
       "      <th>4</th>\n",
       "      <td>2.643478</td>\n",
       "      <td>0.276047</td>\n",
       "      <td>-1.021058</td>\n",
       "      <td>-0.385078</td>\n",
       "      <td>0.667052</td>\n",
       "      <td>-0.302661</td>\n",
       "      <td>0.515204</td>\n",
       "      <td>0.370509</td>\n",
       "      <td>-0.078458</td>\n",
       "      <td>-0.013644</td>\n",
       "    </tr>\n",
       "  </tbody>\n",
       "</table>\n",
       "</div>"
      ],
      "text/plain": [
       "          0         1         2         3         4         5         6  \\\n",
       "0  1.970291 -0.183173 -1.204517 -0.320934  0.344944 -0.118668 -0.247746   \n",
       "1 -0.247145  1.027784  0.348070 -0.345024  0.055191 -1.282295 -0.288745   \n",
       "2  1.888631 -0.141562 -1.323978 -0.291776  0.173388 -0.288549 -0.295238   \n",
       "3 -1.228671  0.708449  0.145340 -0.024900  0.089597 -0.165144  1.256851   \n",
       "4  2.643478  0.276047 -1.021058 -0.385078  0.667052 -0.302661  0.515204   \n",
       "\n",
       "          7         8         9  \n",
       "0 -0.511382 -0.214697 -0.014960  \n",
       "1  0.075416  0.120468 -0.007857  \n",
       "2 -0.438584 -0.146296 -0.013358  \n",
       "3  2.168790 -0.619765  0.009322  \n",
       "4  0.370509 -0.078458 -0.013644  "
      ]
     },
     "execution_count": 81,
     "metadata": {},
     "output_type": "execute_result"
    }
   ],
   "source": [
    "print('Principal Components:')\n",
    "components.head()"
   ]
  },
  {
   "cell_type": "code",
   "execution_count": 82,
   "metadata": {},
   "outputs": [
    {
     "name": "stdout",
     "output_type": "stream",
     "text": [
      "Components Explained Variance Ratio:\n"
     ]
    },
    {
     "data": {
      "text/plain": [
       "array([0.28408606, 0.18648479, 0.13111903, 0.10368328, 0.09505344,\n",
       "       0.08014923, 0.05259941, 0.0457667 , 0.02006312, 0.00099494])"
      ]
     },
     "execution_count": 82,
     "metadata": {},
     "output_type": "execute_result"
    }
   ],
   "source": [
    "print('Components Explained Variance Ratio:')\n",
    "explained_variance_ratio"
   ]
  },
  {
   "cell_type": "raw",
   "metadata": {},
   "source": [
    "As seen above, there is not an absolute dominance of just one component, concerning the explained variance. However, the first 6 components explain just a little less than 90% of the variance.\n",
    "Hence, we will train/test the model both with all the components and with only the first 6 components."
   ]
  },
  {
   "cell_type": "markdown",
   "metadata": {},
   "source": [
    "#### I.2. Train + Evaluation"
   ]
  },
  {
   "cell_type": "code",
   "execution_count": 83,
   "metadata": {},
   "outputs": [
    {
     "name": "stdout",
     "output_type": "stream",
     "text": [
      "All the components:\n"
     ]
    },
    {
     "data": {
      "text/plain": [
       "0.8506224066390041"
      ]
     },
     "execution_count": 83,
     "metadata": {},
     "output_type": "execute_result"
    }
   ],
   "source": [
    "print('All the components:')\n",
    "iter6_all_components_acc = train_and_evaluation(X=components, y=target_saleprice)\n",
    "iter6_all_components_acc"
   ]
  },
  {
   "cell_type": "code",
   "execution_count": 84,
   "metadata": {},
   "outputs": [
    {
     "name": "stdout",
     "output_type": "stream",
     "text": [
      "6 components with most explained variance:\n"
     ]
    },
    {
     "data": {
      "text/plain": [
       "0.8443983402489627"
      ]
     },
     "execution_count": 84,
     "metadata": {},
     "output_type": "execute_result"
    }
   ],
   "source": [
    "print('6 components with most explained variance:')\n",
    "iter6_best_components_acc = train_and_evaluation(X=components.loc[:, 0:5], y=target_saleprice)\n",
    "iter6_best_components_acc"
   ]
  },
  {
   "cell_type": "code",
   "execution_count": 85,
   "metadata": {},
   "outputs": [
    {
     "data": {
      "text/html": [
       "<div>\n",
       "<style scoped>\n",
       "    .dataframe tbody tr th:only-of-type {\n",
       "        vertical-align: middle;\n",
       "    }\n",
       "\n",
       "    .dataframe tbody tr th {\n",
       "        vertical-align: top;\n",
       "    }\n",
       "\n",
       "    .dataframe thead th {\n",
       "        text-align: right;\n",
       "    }\n",
       "</style>\n",
       "<table border=\"1\" class=\"dataframe\">\n",
       "  <thead>\n",
       "    <tr style=\"text-align: right;\">\n",
       "      <th></th>\n",
       "      <th>accuracy_score</th>\n",
       "    </tr>\n",
       "  </thead>\n",
       "  <tbody>\n",
       "    <tr>\n",
       "      <th>mandatory_features</th>\n",
       "      <td>0.678423</td>\n",
       "    </tr>\n",
       "    <tr>\n",
       "      <th>iteration_1</th>\n",
       "      <td>0.825726</td>\n",
       "    </tr>\n",
       "    <tr>\n",
       "      <th>iteration_2</th>\n",
       "      <td>0.825726</td>\n",
       "    </tr>\n",
       "    <tr>\n",
       "      <th>iteration_3</th>\n",
       "      <td>0.825726</td>\n",
       "    </tr>\n",
       "    <tr>\n",
       "      <th>iteration_4</th>\n",
       "      <td>0.834025</td>\n",
       "    </tr>\n",
       "    <tr>\n",
       "      <th>iteration_5</th>\n",
       "      <td>0.850622</td>\n",
       "    </tr>\n",
       "    <tr>\n",
       "      <th>iteration_6</th>\n",
       "      <td>0.850622</td>\n",
       "    </tr>\n",
       "  </tbody>\n",
       "</table>\n",
       "</div>"
      ],
      "text/plain": [
       "                    accuracy_score\n",
       "mandatory_features        0.678423\n",
       "iteration_1               0.825726\n",
       "iteration_2               0.825726\n",
       "iteration_3               0.825726\n",
       "iteration_4               0.834025\n",
       "iteration_5               0.850622\n",
       "iteration_6               0.850622"
      ]
     },
     "execution_count": 85,
     "metadata": {},
     "output_type": "execute_result"
    }
   ],
   "source": [
    "# Assign the best result to our results history\n",
    "\n",
    "df_train_evaluation.loc['iteration_6'] = iter6_all_components_acc\n",
    "df_train_evaluation"
   ]
  },
  {
   "cell_type": "raw",
   "metadata": {},
   "source": [
    "Comparing this iteration with the previous, we can see that both the results with all the principal components and just the 6 best were better than the results achieved with normalization. Nevertheless, the experience with the 6 best components performed worse than the result with the standardized data in iteration 5, and the accuracy with all the principal components was identical.\n",
    "\n",
    "With these results, we can conclude that the iteration 5 produced the best option of the algorithm, since it consists of relatively simple computations, with a solid result for the aim of the project.\n",
    "\n",
    "Considering possible improvements and future work, we could scale the other sets produced in iteration 4 (reproducing the iterations 5 and 6 for the rest of the sets). Besides this, we could explore the rest of the features in the raw dataset, since many of them were left out of this evaluation."
   ]
  },
  {
   "cell_type": "code",
   "execution_count": null,
   "metadata": {},
   "outputs": [],
   "source": []
  }
 ],
 "metadata": {
  "kernelspec": {
   "display_name": "Python 3",
   "language": "python",
   "name": "python3"
  },
  "language_info": {
   "codemirror_mode": {
    "name": "ipython",
    "version": 3
   },
   "file_extension": ".py",
   "mimetype": "text/x-python",
   "name": "python",
   "nbconvert_exporter": "python",
   "pygments_lexer": "ipython3",
   "version": "3.8.3"
  }
 },
 "nbformat": 4,
 "nbformat_minor": 4
}
